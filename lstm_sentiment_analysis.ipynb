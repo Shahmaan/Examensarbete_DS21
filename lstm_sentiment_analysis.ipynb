{
 "cells": [
  {
   "attachments": {},
   "cell_type": "markdown",
   "metadata": {},
   "source": [
    "# Sentiment Analysis with LSTM"
   ]
  },
  {
   "attachments": {},
   "cell_type": "markdown",
   "metadata": {},
   "source": [
    "Import Dependencies + Settings"
   ]
  },
  {
   "cell_type": "code",
   "execution_count": 143,
   "metadata": {
    "notebookRunGroups": {
     "groupValue": "1"
    }
   },
   "outputs": [
    {
     "name": "stderr",
     "output_type": "stream",
     "text": [
      "[nltk_data] Downloading package stopwords to\n",
      "[nltk_data]     C:\\Users\\nawid\\AppData\\Roaming\\nltk_data...\n",
      "[nltk_data]   Package stopwords is already up-to-date!\n",
      "[nltk_data] Downloading package wordnet to\n",
      "[nltk_data]     C:\\Users\\nawid\\AppData\\Roaming\\nltk_data...\n",
      "[nltk_data]   Package wordnet is already up-to-date!\n",
      "[nltk_data] Downloading package vader_lexicon to\n",
      "[nltk_data]     C:\\Users\\nawid\\AppData\\Roaming\\nltk_data...\n",
      "[nltk_data]   Package vader_lexicon is already up-to-date!\n"
     ]
    },
    {
     "data": {
      "text/plain": [
       "True"
      ]
     },
     "execution_count": 143,
     "metadata": {},
     "output_type": "execute_result"
    }
   ],
   "source": [
    "%store -r initial_processing_df\n",
    "\n",
    "from keras.preprocessing.text import Tokenizer\n",
    "from keras.utils import to_categorical\n",
    "#from keras.models import Sequential\n",
    "#from keras.layers import Dense, Dropout, Activation, SimpleRNN, Embedding, LSTM\n",
    "#from keras.wrappers.scikit_learn import KerasClassifier\n",
    "\n",
    "from sklearn.metrics import confusion_matrix\n",
    "#from sklearn.metrics import roc_curve, auc, roc_auc_score\n",
    "from sklearn.model_selection import train_test_split\n",
    "from sklearn.metrics import classification_report\n",
    "\n",
    "from tensorflow.keras.optimizers import Adam\n",
    "#from tensorflow.keras.losses import BinaryCrossentropy\n",
    "from tensorflow.keras.metrics import AUC\n",
    "from tensorflow.keras.callbacks import ModelCheckpoint, EarlyStopping, CSVLogger\n",
    "from tensorflow.keras.models import load_model\n",
    "\n",
    "from tqdm import tqdm\n",
    "#from textblob import TextBlob\n",
    "#from nltk.stem import WordNetLemmatizer\n",
    "from nltk.corpus import stopwords\n",
    "from nltk import ngrams\n",
    "from nltk.sentiment import vader, SentimentIntensityAnalyzer\n",
    "from nltk.tokenize import word_tokenize\n",
    "\n",
    "from collections import Counter\n",
    "\n",
    "\n",
    "import matplotlib.pyplot as plt\n",
    "import tensorflow as tf\n",
    "import pandas as pd\n",
    "import numpy as np\n",
    "import seaborn as sns\n",
    "import keras\n",
    "#import random\n",
    "import nltk\n",
    "import re\n",
    "\n",
    "np.random.seed(124)\n",
    "tf.random.set_seed(124)\n",
    "\n",
    "plt.style.use('ggplot')\n",
    "\n",
    "nltk.download('stopwords')\n",
    "nltk.download('wordnet')\n",
    "nltk.download('vader_lexicon')"
   ]
  },
  {
   "attachments": {},
   "cell_type": "markdown",
   "metadata": {},
   "source": [
    "# Dataset Preprocessing"
   ]
  },
  {
   "cell_type": "code",
   "execution_count": 144,
   "metadata": {},
   "outputs": [
    {
     "data": {
      "text/plain": [
       "(27330, 6)"
      ]
     },
     "execution_count": 144,
     "metadata": {},
     "output_type": "execute_result"
    }
   ],
   "source": [
    "# Loading the data\n",
    "df = pd.read_csv('../Examensarbete_DS21/rnn_hotel_training_data.csv', encoding='ISO-8859-1')\n",
    "df.shape"
   ]
  },
  {
   "cell_type": "code",
   "execution_count": 145,
   "metadata": {},
   "outputs": [
    {
     "data": {
      "text/html": [
       "<div>\n",
       "<style scoped>\n",
       "    .dataframe tbody tr th:only-of-type {\n",
       "        vertical-align: middle;\n",
       "    }\n",
       "\n",
       "    .dataframe tbody tr th {\n",
       "        vertical-align: top;\n",
       "    }\n",
       "\n",
       "    .dataframe thead th {\n",
       "        text-align: right;\n",
       "    }\n",
       "</style>\n",
       "<table border=\"1\" class=\"dataframe\">\n",
       "  <thead>\n",
       "    <tr style=\"text-align: right;\">\n",
       "      <th></th>\n",
       "      <th>Property Name</th>\n",
       "      <th>Review Rating</th>\n",
       "      <th>Review Title</th>\n",
       "      <th>Review Text</th>\n",
       "      <th>Location Of The Reviewer</th>\n",
       "      <th>Date Of Review</th>\n",
       "    </tr>\n",
       "  </thead>\n",
       "  <tbody>\n",
       "    <tr>\n",
       "      <th>0</th>\n",
       "      <td>Apex London Wall Hotel</td>\n",
       "      <td>5</td>\n",
       "      <td>Ottima qualità prezzo</td>\n",
       "      <td>Siamo stati a Londra per un week end ed abbiam...</td>\n",
       "      <td>Casale Monferrato, Italy</td>\n",
       "      <td>10/20/2012</td>\n",
       "    </tr>\n",
       "    <tr>\n",
       "      <th>1</th>\n",
       "      <td>Corinthia Hotel London</td>\n",
       "      <td>5</td>\n",
       "      <td>By far, my best hotel in the world</td>\n",
       "      <td>I had a pleasure of staying in this hotel for ...</td>\n",
       "      <td>Savannah, Georgia</td>\n",
       "      <td>3/23/2016</td>\n",
       "    </tr>\n",
       "    <tr>\n",
       "      <th>2</th>\n",
       "      <td>The Savoy</td>\n",
       "      <td>5</td>\n",
       "      <td>First visit to the American Bar at the Savoy</td>\n",
       "      <td>A very lovely first visit to this iconic hotel...</td>\n",
       "      <td>London</td>\n",
       "      <td>7/30/2013</td>\n",
       "    </tr>\n",
       "    <tr>\n",
       "      <th>3</th>\n",
       "      <td>Rhodes Hotel</td>\n",
       "      <td>4</td>\n",
       "      <td>Nice stay</td>\n",
       "      <td>3 of us stayed at the Rhodes Hotel for 4 night...</td>\n",
       "      <td>Maui, Hawaii</td>\n",
       "      <td>6/2/2012</td>\n",
       "    </tr>\n",
       "    <tr>\n",
       "      <th>4</th>\n",
       "      <td>The Savoy</td>\n",
       "      <td>5</td>\n",
       "      <td>Perfection</td>\n",
       "      <td>Form the moment we arrived until we left we ex...</td>\n",
       "      <td>London, United Kingdom</td>\n",
       "      <td>11/24/2017</td>\n",
       "    </tr>\n",
       "  </tbody>\n",
       "</table>\n",
       "</div>"
      ],
      "text/plain": [
       "            Property Name  Review Rating   \n",
       "0  Apex London Wall Hotel              5  \\\n",
       "1  Corinthia Hotel London              5   \n",
       "2               The Savoy              5   \n",
       "3            Rhodes Hotel              4   \n",
       "4               The Savoy              5   \n",
       "\n",
       "                                   Review Title   \n",
       "0                         Ottima qualità prezzo  \\\n",
       "1            By far, my best hotel in the world   \n",
       "2  First visit to the American Bar at the Savoy   \n",
       "3                                     Nice stay   \n",
       "4                                    Perfection   \n",
       "\n",
       "                                         Review Text   \n",
       "0  Siamo stati a Londra per un week end ed abbiam...  \\\n",
       "1  I had a pleasure of staying in this hotel for ...   \n",
       "2  A very lovely first visit to this iconic hotel...   \n",
       "3  3 of us stayed at the Rhodes Hotel for 4 night...   \n",
       "4  Form the moment we arrived until we left we ex...   \n",
       "\n",
       "   Location Of The Reviewer Date Of Review  \n",
       "0  Casale Monferrato, Italy     10/20/2012  \n",
       "1         Savannah, Georgia      3/23/2016  \n",
       "2                    London      7/30/2013  \n",
       "3              Maui, Hawaii       6/2/2012  \n",
       "4    London, United Kingdom     11/24/2017  "
      ]
     },
     "execution_count": 145,
     "metadata": {},
     "output_type": "execute_result"
    }
   ],
   "source": [
    "# Let's have a look at our dataset\n",
    "df.head()"
   ]
  },
  {
   "cell_type": "code",
   "execution_count": 146,
   "metadata": {},
   "outputs": [
    {
     "data": {
      "text/html": [
       "<div>\n",
       "<style scoped>\n",
       "    .dataframe tbody tr th:only-of-type {\n",
       "        vertical-align: middle;\n",
       "    }\n",
       "\n",
       "    .dataframe tbody tr th {\n",
       "        vertical-align: top;\n",
       "    }\n",
       "\n",
       "    .dataframe thead th {\n",
       "        text-align: right;\n",
       "    }\n",
       "</style>\n",
       "<table border=\"1\" class=\"dataframe\">\n",
       "  <thead>\n",
       "    <tr style=\"text-align: right;\">\n",
       "      <th></th>\n",
       "      <th>Review Text</th>\n",
       "      <th>Review Rating</th>\n",
       "    </tr>\n",
       "  </thead>\n",
       "  <tbody>\n",
       "    <tr>\n",
       "      <th>0</th>\n",
       "      <td>Siamo stati a Londra per un week end ed abbiam...</td>\n",
       "      <td>5</td>\n",
       "    </tr>\n",
       "    <tr>\n",
       "      <th>1</th>\n",
       "      <td>I had a pleasure of staying in this hotel for ...</td>\n",
       "      <td>5</td>\n",
       "    </tr>\n",
       "    <tr>\n",
       "      <th>2</th>\n",
       "      <td>A very lovely first visit to this iconic hotel...</td>\n",
       "      <td>5</td>\n",
       "    </tr>\n",
       "    <tr>\n",
       "      <th>3</th>\n",
       "      <td>3 of us stayed at the Rhodes Hotel for 4 night...</td>\n",
       "      <td>4</td>\n",
       "    </tr>\n",
       "    <tr>\n",
       "      <th>4</th>\n",
       "      <td>Form the moment we arrived until we left we ex...</td>\n",
       "      <td>5</td>\n",
       "    </tr>\n",
       "    <tr>\n",
       "      <th>...</th>\n",
       "      <td>...</td>\n",
       "      <td>...</td>\n",
       "    </tr>\n",
       "    <tr>\n",
       "      <th>27325</th>\n",
       "      <td>I come to London often but since I stayed in t...</td>\n",
       "      <td>5</td>\n",
       "    </tr>\n",
       "    <tr>\n",
       "      <th>27326</th>\n",
       "      <td>En cuarto que nos tocó no había toallas y habí...</td>\n",
       "      <td>3</td>\n",
       "    </tr>\n",
       "    <tr>\n",
       "      <th>27327</th>\n",
       "      <td>This is a quality quiet hotel located in an ex...</td>\n",
       "      <td>4</td>\n",
       "    </tr>\n",
       "    <tr>\n",
       "      <th>27328</th>\n",
       "      <td>Väldigt vackra rum, tyvärr med en mycket höglj...</td>\n",
       "      <td>4</td>\n",
       "    </tr>\n",
       "    <tr>\n",
       "      <th>27329</th>\n",
       "      <td>I have been staying in London hotels for 10 ye...</td>\n",
       "      <td>5</td>\n",
       "    </tr>\n",
       "  </tbody>\n",
       "</table>\n",
       "<p>27330 rows × 2 columns</p>\n",
       "</div>"
      ],
      "text/plain": [
       "                                             Review Text  Review Rating\n",
       "0      Siamo stati a Londra per un week end ed abbiam...              5\n",
       "1      I had a pleasure of staying in this hotel for ...              5\n",
       "2      A very lovely first visit to this iconic hotel...              5\n",
       "3      3 of us stayed at the Rhodes Hotel for 4 night...              4\n",
       "4      Form the moment we arrived until we left we ex...              5\n",
       "...                                                  ...            ...\n",
       "27325  I come to London often but since I stayed in t...              5\n",
       "27326  En cuarto que nos tocó no había toallas y habí...              3\n",
       "27327  This is a quality quiet hotel located in an ex...              4\n",
       "27328  Väldigt vackra rum, tyvärr med en mycket höglj...              4\n",
       "27329  I have been staying in London hotels for 10 ye...              5\n",
       "\n",
       "[27330 rows x 2 columns]"
      ]
     },
     "execution_count": 146,
     "metadata": {},
     "output_type": "execute_result"
    }
   ],
   "source": [
    "# We only need the review text and raiting\n",
    "df = df[['Review Text', 'Review Rating']]\n",
    "df"
   ]
  },
  {
   "cell_type": "code",
   "execution_count": 147,
   "metadata": {},
   "outputs": [
    {
     "data": {
      "text/plain": [
       "Review Text      False\n",
       "Review Rating    False\n",
       "dtype: bool"
      ]
     },
     "execution_count": 147,
     "metadata": {},
     "output_type": "execute_result"
    }
   ],
   "source": [
    "# Checking for null values.\n",
    "df.isna().any()"
   ]
  },
  {
   "attachments": {},
   "cell_type": "markdown",
   "metadata": {},
   "source": [
    "## Positive Column"
   ]
  },
  {
   "cell_type": "code",
   "execution_count": 148,
   "metadata": {},
   "outputs": [
    {
     "data": {
      "text/html": [
       "<div>\n",
       "<style scoped>\n",
       "    .dataframe tbody tr th:only-of-type {\n",
       "        vertical-align: middle;\n",
       "    }\n",
       "\n",
       "    .dataframe tbody tr th {\n",
       "        vertical-align: top;\n",
       "    }\n",
       "\n",
       "    .dataframe thead th {\n",
       "        text-align: right;\n",
       "    }\n",
       "</style>\n",
       "<table border=\"1\" class=\"dataframe\">\n",
       "  <thead>\n",
       "    <tr style=\"text-align: right;\">\n",
       "      <th></th>\n",
       "      <th>Review Text</th>\n",
       "      <th>Review Rating</th>\n",
       "      <th>Positive</th>\n",
       "    </tr>\n",
       "  </thead>\n",
       "  <tbody>\n",
       "    <tr>\n",
       "      <th>0</th>\n",
       "      <td>Siamo stati a Londra per un week end ed abbiam...</td>\n",
       "      <td>5</td>\n",
       "      <td>1</td>\n",
       "    </tr>\n",
       "    <tr>\n",
       "      <th>1</th>\n",
       "      <td>I had a pleasure of staying in this hotel for ...</td>\n",
       "      <td>5</td>\n",
       "      <td>1</td>\n",
       "    </tr>\n",
       "    <tr>\n",
       "      <th>2</th>\n",
       "      <td>A very lovely first visit to this iconic hotel...</td>\n",
       "      <td>5</td>\n",
       "      <td>1</td>\n",
       "    </tr>\n",
       "    <tr>\n",
       "      <th>3</th>\n",
       "      <td>3 of us stayed at the Rhodes Hotel for 4 night...</td>\n",
       "      <td>4</td>\n",
       "      <td>1</td>\n",
       "    </tr>\n",
       "    <tr>\n",
       "      <th>4</th>\n",
       "      <td>Form the moment we arrived until we left we ex...</td>\n",
       "      <td>5</td>\n",
       "      <td>1</td>\n",
       "    </tr>\n",
       "  </tbody>\n",
       "</table>\n",
       "</div>"
      ],
      "text/plain": [
       "                                         Review Text  Review Rating  Positive\n",
       "0  Siamo stati a Londra per un week end ed abbiam...              5         1\n",
       "1  I had a pleasure of staying in this hotel for ...              5         1\n",
       "2  A very lovely first visit to this iconic hotel...              5         1\n",
       "3  3 of us stayed at the Rhodes Hotel for 4 night...              4         1\n",
       "4  Form the moment we arrived until we left we ex...              5         1"
      ]
     },
     "execution_count": 148,
     "metadata": {},
     "output_type": "execute_result"
    }
   ],
   "source": [
    "# If rating [1, 2, 3] = Negative and if rating [4, 5] = Positive\n",
    "def ratings(rating):\n",
    "    if rating>0 and rating<=3:\n",
    "        return 0\n",
    "    if rating>3 and rating<=5:\n",
    "        return 1\n",
    "    \n",
    "df['Positive'] = df['Review Rating'].apply(ratings)\n",
    "df.head()"
   ]
  },
  {
   "attachments": {},
   "cell_type": "markdown",
   "metadata": {},
   "source": [
    "## Word Count Column"
   ]
  },
  {
   "cell_type": "code",
   "execution_count": 149,
   "metadata": {},
   "outputs": [
    {
     "data": {
      "text/html": [
       "<div>\n",
       "<style scoped>\n",
       "    .dataframe tbody tr th:only-of-type {\n",
       "        vertical-align: middle;\n",
       "    }\n",
       "\n",
       "    .dataframe tbody tr th {\n",
       "        vertical-align: top;\n",
       "    }\n",
       "\n",
       "    .dataframe thead th {\n",
       "        text-align: right;\n",
       "    }\n",
       "</style>\n",
       "<table border=\"1\" class=\"dataframe\">\n",
       "  <thead>\n",
       "    <tr style=\"text-align: right;\">\n",
       "      <th></th>\n",
       "      <th>Review Text</th>\n",
       "      <th>Review Rating</th>\n",
       "      <th>Positive</th>\n",
       "      <th>Word_count</th>\n",
       "    </tr>\n",
       "  </thead>\n",
       "  <tbody>\n",
       "    <tr>\n",
       "      <th>0</th>\n",
       "      <td>Siamo stati a Londra per un week end ed abbiam...</td>\n",
       "      <td>5</td>\n",
       "      <td>1</td>\n",
       "      <td>171</td>\n",
       "    </tr>\n",
       "    <tr>\n",
       "      <th>1</th>\n",
       "      <td>I had a pleasure of staying in this hotel for ...</td>\n",
       "      <td>5</td>\n",
       "      <td>1</td>\n",
       "      <td>265</td>\n",
       "    </tr>\n",
       "    <tr>\n",
       "      <th>2</th>\n",
       "      <td>A very lovely first visit to this iconic hotel...</td>\n",
       "      <td>5</td>\n",
       "      <td>1</td>\n",
       "      <td>54</td>\n",
       "    </tr>\n",
       "    <tr>\n",
       "      <th>3</th>\n",
       "      <td>3 of us stayed at the Rhodes Hotel for 4 night...</td>\n",
       "      <td>4</td>\n",
       "      <td>1</td>\n",
       "      <td>75</td>\n",
       "    </tr>\n",
       "    <tr>\n",
       "      <th>4</th>\n",
       "      <td>Form the moment we arrived until we left we ex...</td>\n",
       "      <td>5</td>\n",
       "      <td>1</td>\n",
       "      <td>62</td>\n",
       "    </tr>\n",
       "  </tbody>\n",
       "</table>\n",
       "</div>"
      ],
      "text/plain": [
       "                                         Review Text  Review Rating  Positive   \n",
       "0  Siamo stati a Londra per un week end ed abbiam...              5         1  \\\n",
       "1  I had a pleasure of staying in this hotel for ...              5         1   \n",
       "2  A very lovely first visit to this iconic hotel...              5         1   \n",
       "3  3 of us stayed at the Rhodes Hotel for 4 night...              4         1   \n",
       "4  Form the moment we arrived until we left we ex...              5         1   \n",
       "\n",
       "   Word_count  \n",
       "0         171  \n",
       "1         265  \n",
       "2          54  \n",
       "3          75  \n",
       "4          62  "
      ]
     },
     "execution_count": 149,
     "metadata": {},
     "output_type": "execute_result"
    }
   ],
   "source": [
    "def word_count(review):\n",
    "    review_list = review.split()\n",
    "    return len(review_list)\n",
    "\n",
    "df['Word_count'] = df['Review Text'].apply(word_count)\n",
    "df.head()"
   ]
  },
  {
   "attachments": {},
   "cell_type": "markdown",
   "metadata": {},
   "source": [
    "# NLTK Text Processing Function"
   ]
  },
  {
   "cell_type": "code",
   "execution_count": 150,
   "metadata": {
    "notebookRunGroups": {
     "groupValue": "1"
    }
   },
   "outputs": [],
   "source": [
    "def preprocess_text(sen):\n",
    "    '''Cleans up text data, leaving 2 or more char long non-stopwords containing A-Z & a-z only in lowercase'''\n",
    "\n",
    "    sentence = sen.lower()\n",
    "    \n",
    "    # Remove punctuations and numbers\n",
    "    sentence = re.sub('[^a-zA-Z]', ' ', sentence)\n",
    "    \n",
    "    # Remove single characters that are not part of words with more than one character\n",
    "    sentence = re.sub(r\"\\b[a-zA-Z]\\b\", '', sentence)\n",
    "    \n",
    "    # Remove multiple spaces\n",
    "    sentence = re.sub(r'\\s+', ' ', sentence)\n",
    "    \n",
    "    # Remove stopwords\n",
    "    stop_words = set(stopwords.words('english'))\n",
    "    words = sentence.split()\n",
    "    filtered_words = [word for word in words if not word in stop_words]\n",
    "    \n",
    "    return ' '.join(filtered_words)\n"
   ]
  },
  {
   "cell_type": "code",
   "execution_count": 151,
   "metadata": {},
   "outputs": [
    {
     "name": "stderr",
     "output_type": "stream",
     "text": [
      "100%|██████████| 27330/27330 [00:07<00:00, 3592.82it/s]\n"
     ]
    }
   ],
   "source": [
    "# Empty list where the cleaned text will be stored\n",
    "clean_text = []\n",
    "\n",
    "clean_sentences = list(df['Review Text'])\n",
    "for sen in tqdm(clean_sentences):\n",
    "    clean_text.append(preprocess_text(sen))"
   ]
  },
  {
   "attachments": {},
   "cell_type": "markdown",
   "metadata": {},
   "source": [
    "# EDA"
   ]
  },
  {
   "cell_type": "code",
   "execution_count": 152,
   "metadata": {},
   "outputs": [
    {
     "data": {
      "text/html": [
       "<div>\n",
       "<style scoped>\n",
       "    .dataframe tbody tr th:only-of-type {\n",
       "        vertical-align: middle;\n",
       "    }\n",
       "\n",
       "    .dataframe tbody tr th {\n",
       "        vertical-align: top;\n",
       "    }\n",
       "\n",
       "    .dataframe thead th {\n",
       "        text-align: right;\n",
       "    }\n",
       "</style>\n",
       "<table border=\"1\" class=\"dataframe\">\n",
       "  <thead>\n",
       "    <tr style=\"text-align: right;\">\n",
       "      <th></th>\n",
       "      <th>Review Rating</th>\n",
       "      <th>Positive</th>\n",
       "      <th>Word_count</th>\n",
       "    </tr>\n",
       "  </thead>\n",
       "  <tbody>\n",
       "    <tr>\n",
       "      <th>count</th>\n",
       "      <td>27330.000000</td>\n",
       "      <td>27330.000000</td>\n",
       "      <td>27330.000000</td>\n",
       "    </tr>\n",
       "    <tr>\n",
       "      <th>mean</th>\n",
       "      <td>4.490999</td>\n",
       "      <td>0.890853</td>\n",
       "      <td>128.819539</td>\n",
       "    </tr>\n",
       "    <tr>\n",
       "      <th>std</th>\n",
       "      <td>0.891704</td>\n",
       "      <td>0.311830</td>\n",
       "      <td>128.600239</td>\n",
       "    </tr>\n",
       "    <tr>\n",
       "      <th>min</th>\n",
       "      <td>1.000000</td>\n",
       "      <td>0.000000</td>\n",
       "      <td>1.000000</td>\n",
       "    </tr>\n",
       "    <tr>\n",
       "      <th>25%</th>\n",
       "      <td>4.000000</td>\n",
       "      <td>1.000000</td>\n",
       "      <td>55.000000</td>\n",
       "    </tr>\n",
       "    <tr>\n",
       "      <th>50%</th>\n",
       "      <td>5.000000</td>\n",
       "      <td>1.000000</td>\n",
       "      <td>91.000000</td>\n",
       "    </tr>\n",
       "    <tr>\n",
       "      <th>75%</th>\n",
       "      <td>5.000000</td>\n",
       "      <td>1.000000</td>\n",
       "      <td>156.000000</td>\n",
       "    </tr>\n",
       "    <tr>\n",
       "      <th>max</th>\n",
       "      <td>5.000000</td>\n",
       "      <td>1.000000</td>\n",
       "      <td>5781.000000</td>\n",
       "    </tr>\n",
       "  </tbody>\n",
       "</table>\n",
       "</div>"
      ],
      "text/plain": [
       "       Review Rating      Positive    Word_count\n",
       "count   27330.000000  27330.000000  27330.000000\n",
       "mean        4.490999      0.890853    128.819539\n",
       "std         0.891704      0.311830    128.600239\n",
       "min         1.000000      0.000000      1.000000\n",
       "25%         4.000000      1.000000     55.000000\n",
       "50%         5.000000      1.000000     91.000000\n",
       "75%         5.000000      1.000000    156.000000\n",
       "max         5.000000      1.000000   5781.000000"
      ]
     },
     "execution_count": 152,
     "metadata": {},
     "output_type": "execute_result"
    }
   ],
   "source": [
    "df.describe()"
   ]
  },
  {
   "attachments": {},
   "cell_type": "markdown",
   "metadata": {},
   "source": [
    "## Count of Reviews by Stars"
   ]
  },
  {
   "cell_type": "code",
   "execution_count": 153,
   "metadata": {},
   "outputs": [
    {
     "data": {
      "text/plain": [
       "Review Rating\n",
       "5    18327\n",
       "4     6020\n",
       "3     1675\n",
       "2      691\n",
       "1      617\n",
       "Name: count, dtype: int64"
      ]
     },
     "execution_count": 153,
     "metadata": {},
     "output_type": "execute_result"
    }
   ],
   "source": [
    "df['Review Rating'].value_counts()"
   ]
  },
  {
   "cell_type": "code",
   "execution_count": 154,
   "metadata": {},
   "outputs": [
    {
     "data": {
      "image/png": "[encoded data removed]",
      "text/plain": [
       "<Figure size 800x400 with 1 Axes>"
      ]
     },
     "metadata": {},
     "output_type": "display_data"
    }
   ],
   "source": [
    "ax = df['Review Rating'].value_counts().sort_index().plot(\n",
    "    kind='bar',\n",
    "    title='Count of Reviews by Stars',\n",
    "    figsize=(8, 4)\n",
    ")\n",
    "ax.set_xlabel('Review Stars')\n",
    "plt.show()"
   ]
  },
  {
   "attachments": {},
   "cell_type": "markdown",
   "metadata": {},
   "source": [
    "The dataset consists of a significant number of positive reviews."
   ]
  },
  {
   "attachments": {},
   "cell_type": "markdown",
   "metadata": {},
   "source": [
    "## Count of Reviews by Positive"
   ]
  },
  {
   "cell_type": "code",
   "execution_count": 155,
   "metadata": {},
   "outputs": [
    {
     "data": {
      "text/plain": [
       "Positive\n",
       "1    24347\n",
       "0     2983\n",
       "Name: count, dtype: int64"
      ]
     },
     "execution_count": 155,
     "metadata": {},
     "output_type": "execute_result"
    }
   ],
   "source": [
    "df['Positive'].value_counts()"
   ]
  },
  {
   "cell_type": "code",
   "execution_count": 156,
   "metadata": {},
   "outputs": [
    {
     "data": {
      "image/png": "[encoded data removed]",
      "text/plain": [
       "<Figure size 600x400 with 1 Axes>"
      ]
     },
     "metadata": {},
     "output_type": "display_data"
    }
   ],
   "source": [
    "ax = df['Positive'].value_counts().sort_index().plot(\n",
    "    kind='bar',\n",
    "    title='Count of Reviews by Positive',\n",
    "    figsize=(6, 4)\n",
    ")\n",
    "ax.set_xlabel('Positive')\n",
    "plt.show()"
   ]
  },
  {
   "attachments": {},
   "cell_type": "markdown",
   "metadata": {},
   "source": [
    "The distribution of data is highly skewed towards positive reviews."
   ]
  },
  {
   "attachments": {},
   "cell_type": "markdown",
   "metadata": {},
   "source": [
    "### Word Count by Review Rating"
   ]
  },
  {
   "cell_type": "code",
   "execution_count": 157,
   "metadata": {},
   "outputs": [
    {
     "data": {
      "image/png": "[encoded data removed]",
      "text/plain": [
       "<Figure size 1170x827 with 1 Axes>"
      ]
     },
     "metadata": {},
     "output_type": "display_data"
    }
   ],
   "source": [
    "ax = sns.barplot(df, x='Review Rating', y='Word_count')\n",
    "ax.set_title('Word count by Review Rating')\n",
    "plt.show()"
   ]
  },
  {
   "attachments": {},
   "cell_type": "markdown",
   "metadata": {},
   "source": [
    "Based on the graph, it can be inferred that the number of words decreases as the star rating increases. This is not surprising, as people tend to have more to say when they are dissatisfied."
   ]
  },
  {
   "attachments": {},
   "cell_type": "markdown",
   "metadata": {},
   "source": [
    "## Word Frequency"
   ]
  },
  {
   "attachments": {},
   "cell_type": "markdown",
   "metadata": {},
   "source": [
    "### Corpus\n",
    "To analyze the most frequent words in the reviews, we will create a function called corpus(). This function will convert the review text into a list of words. However, before doing so, we need to clean the text using the preprocess_text function created earlier using the NLTK library. The cleaning process includes removing punctuations, numbers, single characters, multiple spaces, and stopwords."
   ]
  },
  {
   "cell_type": "code",
   "execution_count": 159,
   "metadata": {},
   "outputs": [],
   "source": [
    "# A function that takes the review text and splits all the words\n",
    "def corpus(text):\n",
    "    test_list = text.split()\n",
    "    return test_list"
   ]
  },
  {
   "cell_type": "code",
   "execution_count": 160,
   "metadata": {},
   "outputs": [
    {
     "data": {
      "text/html": [
       "<div>\n",
       "<style scoped>\n",
       "    .dataframe tbody tr th:only-of-type {\n",
       "        vertical-align: middle;\n",
       "    }\n",
       "\n",
       "    .dataframe tbody tr th {\n",
       "        vertical-align: top;\n",
       "    }\n",
       "\n",
       "    .dataframe thead th {\n",
       "        text-align: right;\n",
       "    }\n",
       "</style>\n",
       "<table border=\"1\" class=\"dataframe\">\n",
       "  <thead>\n",
       "    <tr style=\"text-align: right;\">\n",
       "      <th></th>\n",
       "      <th>Review Text</th>\n",
       "      <th>Review Rating</th>\n",
       "      <th>Positive</th>\n",
       "      <th>Word_count</th>\n",
       "      <th>Corpus_Reviews</th>\n",
       "    </tr>\n",
       "  </thead>\n",
       "  <tbody>\n",
       "    <tr>\n",
       "      <th>0</th>\n",
       "      <td>Siamo stati a Londra per un week end ed abbiam...</td>\n",
       "      <td>5</td>\n",
       "      <td>1</td>\n",
       "      <td>171</td>\n",
       "      <td>[siamo, stati, londra, per, un, week, end, ed,...</td>\n",
       "    </tr>\n",
       "    <tr>\n",
       "      <th>1</th>\n",
       "      <td>I had a pleasure of staying in this hotel for ...</td>\n",
       "      <td>5</td>\n",
       "      <td>1</td>\n",
       "      <td>265</td>\n",
       "      <td>[pleasure, staying, hotel, nights, recently, h...</td>\n",
       "    </tr>\n",
       "    <tr>\n",
       "      <th>2</th>\n",
       "      <td>A very lovely first visit to this iconic hotel...</td>\n",
       "      <td>5</td>\n",
       "      <td>1</td>\n",
       "      <td>54</td>\n",
       "      <td>[lovely, first, visit, iconic, hotel, bar, won...</td>\n",
       "    </tr>\n",
       "    <tr>\n",
       "      <th>3</th>\n",
       "      <td>3 of us stayed at the Rhodes Hotel for 4 night...</td>\n",
       "      <td>4</td>\n",
       "      <td>1</td>\n",
       "      <td>75</td>\n",
       "      <td>[us, stayed, rhodes, hotel, nights, great, loc...</td>\n",
       "    </tr>\n",
       "    <tr>\n",
       "      <th>4</th>\n",
       "      <td>Form the moment we arrived until we left we ex...</td>\n",
       "      <td>5</td>\n",
       "      <td>1</td>\n",
       "      <td>62</td>\n",
       "      <td>[form, moment, arrived, left, experienced, abs...</td>\n",
       "    </tr>\n",
       "  </tbody>\n",
       "</table>\n",
       "</div>"
      ],
      "text/plain": [
       "                                         Review Text  Review Rating  Positive   \n",
       "0  Siamo stati a Londra per un week end ed abbiam...              5         1  \\\n",
       "1  I had a pleasure of staying in this hotel for ...              5         1   \n",
       "2  A very lovely first visit to this iconic hotel...              5         1   \n",
       "3  3 of us stayed at the Rhodes Hotel for 4 night...              4         1   \n",
       "4  Form the moment we arrived until we left we ex...              5         1   \n",
       "\n",
       "   Word_count                                     Corpus_Reviews  \n",
       "0         171  [siamo, stati, londra, per, un, week, end, ed,...  \n",
       "1         265  [pleasure, staying, hotel, nights, recently, h...  \n",
       "2          54  [lovely, first, visit, iconic, hotel, bar, won...  \n",
       "3          75  [us, stayed, rhodes, hotel, nights, great, loc...  \n",
       "4          62  [form, moment, arrived, left, experienced, abs...  "
      ]
     },
     "execution_count": 160,
     "metadata": {},
     "output_type": "execute_result"
    }
   ],
   "source": [
    "# Convert the clean_text list to a pandas Series object\n",
    "clean_text_series = pd.Series(clean_text)\n",
    "\n",
    "# Applies the corpus function on the review text and then saves into a new column\n",
    "df['Corpus_Reviews'] = clean_text_series.apply(corpus)\n",
    "df.head()"
   ]
  },
  {
   "attachments": {},
   "cell_type": "markdown",
   "metadata": {},
   "source": [
    "## Frequently occuring N_grams\n",
    "Most frequently occurring n-grams\n",
    "What is an n-gram? An n-gram is a sequence of n words in a text. Most words by themselves may not present the entire context. Typically, adverbs such as 'most' or 'very' are used to modify verbs and adjectives. Therefore, n-grams help analyze phrases and not just words, which can lead to better insights.\n",
    "\n",
    "Some examples of n-grams are:\n",
    "\n",
    "- bi-gram, which means two words in a sequence, such as 'very good' or 'too great'.\n",
    "- tri-gram, which means three words in a sequence, such as 'how was your day'. This would be broken down to 'how was your' and 'was your day'."
   ]
  },
  {
   "attachments": {},
   "cell_type": "markdown",
   "metadata": {},
   "source": [
    "### Top 15 Words"
   ]
  },
  {
   "cell_type": "code",
   "execution_count": 114,
   "metadata": {},
   "outputs": [
    {
     "name": "stdout",
     "output_type": "stream",
     "text": [
      "The 15 most frequent words in the corpus are:\n",
      "hotel: 39554\n",
      "room: 30251\n",
      "staff: 18144\n",
      "london: 15577\n",
      "stay: 14150\n",
      "service: 12920\n",
      "great: 12509\n",
      "breakfast: 11799\n",
      "good: 10914\n",
      "would: 10792\n",
      "one: 9896\n",
      "us: 9518\n",
      "rooms: 8923\n",
      "stayed: 8919\n",
      "location: 8671\n"
     ]
    }
   ],
   "source": [
    "# Create an empty list to store all words in the corpus\n",
    "all_words = []\n",
    "\n",
    "# Iterate over each review in the corpus and add all words to the all_words list\n",
    "for review in df['Corpus_Reviews']:\n",
    "    all_words.extend(review)\n",
    "    \n",
    "# Count the frequency of each word and get the 10 most common words\n",
    "word_freq = Counter(all_words)\n",
    "top_words = word_freq.most_common(15)\n",
    "\n",
    "# Print the 10 most common words\n",
    "print(\"The 15 most frequent words in the corpus are:\")\n",
    "for word, freq in top_words:\n",
    "    print(f\"{word}: {freq}\")"
   ]
  },
  {
   "cell_type": "code",
   "execution_count": 18,
   "metadata": {},
   "outputs": [
    {
     "data": {
      "image/png": "[encoded data removed]",
      "text/plain": [
       "<Figure size 1170x827 with 1 Axes>"
      ]
     },
     "metadata": {},
     "output_type": "display_data"
    }
   ],
   "source": [
    "word_freq = Counter(all_words)\n",
    "top_words = word_freq.most_common(15)\n",
    "\n",
    "sns.set(style=\"whitegrid\")\n",
    "sns.set(rc={'figure.figsize':(11.7,8.27)})\n",
    "ax = sns.barplot(x=[val[1] for val in top_words], y=[val[0] for val in top_words], color='r')\n",
    "ax.set_xlabel('Frequency')\n",
    "ax.set_ylabel('Word')\n",
    "plt.show()"
   ]
  },
  {
   "attachments": {},
   "cell_type": "markdown",
   "metadata": {},
   "source": [
    "Merely looking at the top 15 words does not provide us with a significant amount of information about the reviews."
   ]
  },
  {
   "attachments": {},
   "cell_type": "markdown",
   "metadata": {},
   "source": [
    "### Bi-gram"
   ]
  },
  {
   "cell_type": "code",
   "execution_count": 19,
   "metadata": {},
   "outputs": [
    {
     "name": "stdout",
     "output_type": "stream",
     "text": [
      "The 15 most frequent bi-grams in the corpus are:\n",
      "('afternoon', 'tea'): 1782\n",
      "('staff', 'friendly'): 1660\n",
      "('hyde', 'park'): 1608\n",
      "('room', 'service'): 1480\n",
      "('great', 'location'): 1378\n",
      "('one', 'night'): 1355\n",
      "('walking', 'distance'): 1234\n",
      "('friendly', 'helpful'): 1228\n",
      "('american', 'bar'): 1156\n",
      "('would', 'definitely'): 1119\n",
      "('tube', 'station'): 1062\n",
      "('highly', 'recommend'): 1040\n",
      "('recommend', 'hotel'): 1013\n",
      "('hotel', 'staff'): 937\n",
      "('front', 'desk'): 883\n"
     ]
    }
   ],
   "source": [
    "# Create an empty list to store all bi-grams in the corpus\n",
    "all_bigrams = []\n",
    "\n",
    "# Iterate over each review in the corpus and add all bi-grams to the all_bigrams list\n",
    "for review in df['Corpus_Reviews']:\n",
    "    bigrams = ngrams(review, 2)\n",
    "    all_bigrams.extend(list(bigrams))\n",
    "\n",
    "# Count the frequency of each bi-gram and get the 10 most common bi-grams\n",
    "bigram_freq = Counter(all_bigrams)\n",
    "top_bigrams = bigram_freq.most_common(15)\n",
    "\n",
    "# Print the 15 most common bi-grams\n",
    "print(\"The 15 most frequent bi-grams in the corpus are:\")\n",
    "for bigram, freq in top_bigrams:\n",
    "    print(f\"{bigram}: {freq}\")"
   ]
  },
  {
   "cell_type": "code",
   "execution_count": 20,
   "metadata": {},
   "outputs": [
    {
     "data": {
      "image/png": "[encoded data removed]",
      "text/plain": [
       "<Figure size 1170x827 with 1 Axes>"
      ]
     },
     "metadata": {},
     "output_type": "display_data"
    }
   ],
   "source": [
    "# Convert the tuples to strings\n",
    "top_bigrams_str = [f\"{bigram[0]} {bigram[1]}\" for bigram, freq in top_bigrams]\n",
    "\n",
    "sns.set(style=\"whitegrid\")\n",
    "sns.set(rc={'figure.figsize':(11.7,8.27)})\n",
    "ax = sns.barplot(x=[val[1] for val in top_bigrams], y=top_bigrams_str, color='r')\n",
    "ax.set_xlabel('Frequency')\n",
    "ax.set_ylabel('Bi-gram')\n",
    "plt.show()"
   ]
  },
  {
   "attachments": {},
   "cell_type": "markdown",
   "metadata": {},
   "source": [
    "Analyzing this bi-gram can provide insights into whether a review is positive or negative. For instance, phrases like 'staff friendly', 'great location', 'friendly helpful', 'highly recommend', etc. can indicate a positive experience."
   ]
  },
  {
   "attachments": {},
   "cell_type": "markdown",
   "metadata": {},
   "source": [
    "### Tri-gram"
   ]
  },
  {
   "cell_type": "code",
   "execution_count": 21,
   "metadata": {},
   "outputs": [
    {
     "name": "stdout",
     "output_type": "stream",
     "text": [
      "The 15 most frequent tri-grams in the corpus are:\n",
      "('staff', 'friendly', 'helpful'): 550\n",
      "('nothing', 'much', 'trouble'): 505\n",
      "('stayed', 'one', 'night'): 484\n",
      "('within', 'walking', 'distance'): 458\n",
      "('would', 'highly', 'recommend'): 444\n",
      "('would', 'definitely', 'stay'): 440\n",
      "('apex', 'london', 'wall'): 348\n",
      "('hotel', 'great', 'location'): 340\n",
      "('made', 'us', 'feel'): 325\n",
      "('would', 'definitely', 'recommend'): 314\n",
      "('south', 'kensington', 'tube'): 299\n",
      "('highly', 'recommend', 'hotel'): 275\n",
      "('victoria', 'albert', 'museum'): 269\n",
      "('worth', 'every', 'penny'): 250\n",
      "('would', 'recommend', 'hotel'): 248\n"
     ]
    }
   ],
   "source": [
    "# Create an empty list to store all tri-grams in the corpus\n",
    "all_trigrams = []\n",
    "\n",
    "# Iterate over each review in the corpus and add all tri-grams to the all_trigrams list\n",
    "for review in df['Corpus_Reviews']:\n",
    "    trigrams = ngrams(review, 3)\n",
    "    all_trigrams.extend(list(trigrams))\n",
    "    \n",
    "# Count the frequency of each tri-gram and get the 10 most common tri-grams\n",
    "trigram_freq = Counter(all_trigrams)\n",
    "top_trigrams = trigram_freq.most_common(15)\n",
    "\n",
    "# Print the 15 most common tri-grams\n",
    "print(\"The 15 most frequent tri-grams in the corpus are:\")\n",
    "for trigram, freq in top_trigrams:\n",
    "    print(f\"{trigram}: {freq}\")\n"
   ]
  },
  {
   "cell_type": "code",
   "execution_count": 22,
   "metadata": {},
   "outputs": [
    {
     "data": {
      "image/png": "[encoded data removed]",
      "text/plain": [
       "<Figure size 1170x827 with 1 Axes>"
      ]
     },
     "metadata": {},
     "output_type": "display_data"
    }
   ],
   "source": [
    "sns.set(style=\"whitegrid\")\n",
    "sns.set(rc={'figure.figsize':(11.7,8.27)})\n",
    "ax = sns.barplot(x=[val[1] for val in top_trigrams], y=[f\"{val[0][0]} {val[0][1]} {val[0][2]}\" for val in top_trigrams], color='r')\n",
    "ax.set_xlabel('Frequency')\n",
    "ax.set_ylabel('Tri-gram')\n",
    "plt.show()"
   ]
  },
  {
   "attachments": {},
   "cell_type": "markdown",
   "metadata": {},
   "source": [
    "Analyzing this tri-gram can offer a more significant insight into the most common three words and their sentiment, as well as provide an understanding of the word's tonality."
   ]
  },
  {
   "attachments": {},
   "cell_type": "markdown",
   "metadata": {},
   "source": [
    "### Top 15 Bad Words"
   ]
  },
  {
   "cell_type": "code",
   "execution_count": 141,
   "metadata": {},
   "outputs": [
    {
     "name": "stderr",
     "output_type": "stream",
     "text": [
      "100%|██████████| 1880113/1880113 [00:28<00:00, 66418.06it/s]\n"
     ]
    }
   ],
   "source": [
    "text = ' '.join(clean_text)  # join the list of strings using a space as separator\n",
    "\n",
    "# Initialize the sentiment analyzer\n",
    "analyzer = vader.SentimentIntensityAnalyzer()\n",
    "\n",
    "# Tokenize the text into individual words\n",
    "words = word_tokenize(text)\n",
    "\n",
    "# Get the negative words\n",
    "negative_words = []\n",
    "for word in tqdm(words):\n",
    "    score = analyzer.polarity_scores(word)['neg']\n",
    "    if score > 0.5:  # Threshold for negative sentiment\n",
    "        negative_words.append(word)\n",
    "        \n",
    "word_freq = Counter(negative_words)\n",
    "top_words = word_freq.most_common(15)"
   ]
  },
  {
   "cell_type": "code",
   "execution_count": 142,
   "metadata": {},
   "outputs": [
    {
     "data": {
      "image/png": "[encoded data removed]",
      "text/plain": [
       "<Figure size 1170x827 with 1 Axes>"
      ]
     },
     "metadata": {},
     "output_type": "display_data"
    }
   ],
   "source": [
    "sns.set(style=\"whitegrid\")\n",
    "sns.set(rc={'figure.figsize':(11.7,8.27)})\n",
    "ax = sns.barplot(x=[val[1] for val in top_words], y=[val[0] for val in top_words], color='r')\n",
    "ax.set_xlabel('Frequency')\n",
    "ax.set_ylabel('Bad Word')\n",
    "plt.show()"
   ]
  },
  {
   "attachments": {},
   "cell_type": "markdown",
   "metadata": {},
   "source": [
    "### Bi-gram of Bad Words"
   ]
  },
  {
   "cell_type": "code",
   "execution_count": 138,
   "metadata": {},
   "outputs": [
    {
     "name": "stderr",
     "output_type": "stream",
     "text": [
      "100%|██████████| 1880112/1880112 [00:45<00:00, 41288.45it/s]\n"
     ]
    }
   ],
   "source": [
    "# Create a bi-gram of the words\n",
    "bigrams = ngrams(words, 2)\n",
    "\n",
    "# Convert the bigrams into strings\n",
    "bigram_strings = [' '.join(bigram) for bigram in bigrams]\n",
    "\n",
    "# Get the negative bigrams\n",
    "negative_bigrams = []\n",
    "for bigram in tqdm(bigram_strings):\n",
    "    score = analyzer.polarity_scores(bigram)['neg']\n",
    "    if score > 0.5:  # Threshold for negative sentiment\n",
    "        negative_bigrams.append(bigram)\n",
    "bigram_freq = Counter(negative_bigrams)\n",
    "top_bigrams = bigram_freq.most_common(15)\n"
   ]
  },
  {
   "cell_type": "code",
   "execution_count": 139,
   "metadata": {},
   "outputs": [
    {
     "data": {
      "image/png": "[encoded data removed]",
      "text/plain": [
       "<Figure size 1170x827 with 1 Axes>"
      ]
     },
     "metadata": {},
     "output_type": "display_data"
    }
   ],
   "source": [
    "sns.set(style=\"whitegrid\")\n",
    "sns.set(rc={'figure.figsize':(11.7,8.27)})\n",
    "ax = sns.barplot(x=[val[1] for val in top_bigrams], y=[val[0] for val in top_bigrams], color='r')\n",
    "ax.set_xlabel('Frequency')\n",
    "ax.set_ylabel('Bad Bigram')\n",
    "plt.show()"
   ]
  },
  {
   "attachments": {},
   "cell_type": "markdown",
   "metadata": {},
   "source": [
    "### Tri-gram of Bad Words"
   ]
  },
  {
   "cell_type": "code",
   "execution_count": 27,
   "metadata": {},
   "outputs": [
    {
     "name": "stderr",
     "output_type": "stream",
     "text": [
      "1880111it [01:00, 31308.49it/s]\n"
     ]
    }
   ],
   "source": [
    "# Create tri-grams\n",
    "trigrams = ngrams(words, n=3)\n",
    "\n",
    "# Convert the trigrams into strings\n",
    "trigram_strings = [' '.join(trigram) for trigram in trigram]\n",
    "\n",
    "# Get the negative words\n",
    "negative_trigrams = []\n",
    "for trigram in tqdm(trigrams):\n",
    "    score = analyzer.polarity_scores(' '.join(trigram))['neg']\n",
    "    if score > 0.5:  # Threshold for negative sentiment\n",
    "        negative_trigrams.append(' '.join(trigram))\n",
    "        \n",
    "        \n",
    "# Get the top 15 bad tri-negative_trigrams\n",
    "trigram_freq = Counter(negative_trigrams)\n",
    "top_trigram = trigram_freq.most_common(15)\n"
   ]
  },
  {
   "cell_type": "code",
   "execution_count": 28,
   "metadata": {},
   "outputs": [
    {
     "data": {
      "image/png": "[encoded data removed]",
      "text/plain": [
       "<Figure size 1170x827 with 1 Axes>"
      ]
     },
     "metadata": {},
     "output_type": "display_data"
    }
   ],
   "source": [
    "sns.set(style=\"whitegrid\")\n",
    "sns.set(rc={'figure.figsize':(11.7,8.27)})\n",
    "ax = sns.barplot(x=[val[1] for val in top_trigram], y=[val[0] for val in top_trigram], color='r')\n",
    "ax.set_xlabel('Frequency')\n",
    "ax.set_ylabel('Bad Tri-gram')\n",
    "plt.show()"
   ]
  },
  {
   "attachments": {},
   "cell_type": "markdown",
   "metadata": {},
   "source": [
    "# Prepering for model\n",
    "\n",
    "It's apparent that the reviews vary in lengths, which is problematic. Neural networks cannot accept data of different lengths. Therefore, it is imperative that we standardize the length of each review. To accomplish this, we need to:\n",
    "\n",
    "* Split data into train test\n",
    "* Determine a fxied number of word.\n",
    "* Tokenize the words.\n",
    "* Pad the text.\n",
    "* One-hot encode Y\n",
    "* Reshape data from 2D to 3D"
   ]
  },
  {
   "attachments": {},
   "cell_type": "markdown",
   "metadata": {},
   "source": [
    "## Split Data into Train Test"
   ]
  },
  {
   "cell_type": "code",
   "execution_count": 29,
   "metadata": {},
   "outputs": [],
   "source": [
    "# Cleaning review text which will then be saved to x\n",
    "\n",
    "x = []\n",
    "\n",
    "sentences = list(df['Review Text'])\n",
    "for sen in sentences:\n",
    "    x.append(preprocess_text(sen))"
   ]
  },
  {
   "cell_type": "code",
   "execution_count": 30,
   "metadata": {},
   "outputs": [],
   "source": [
    "#x = df['Review Text']\n",
    "x = np.array(x)\n",
    "y = df['Positive']"
   ]
  },
  {
   "cell_type": "code",
   "execution_count": 31,
   "metadata": {},
   "outputs": [
    {
     "name": "stdout",
     "output_type": "stream",
     "text": [
      "shape of x_train: (21864,)\n",
      "shape of x_test: (5466,)\n",
      "shape of y_train: (21864,)\n",
      "shape of y_test: (5466,)\n"
     ]
    }
   ],
   "source": [
    "x_train, x_test, y_train, y_test = train_test_split(x, y, test_size=0.20)\n",
    "\n",
    "print(\"shape of x_train:\", x_train.shape)\n",
    "print(\"shape of x_test:\", x_test.shape)\n",
    "\n",
    "print(\"shape of y_train:\", y_train.shape)\n",
    "print(\"shape of y_test:\", y_test.shape)\n"
   ]
  },
  {
   "attachments": {},
   "cell_type": "markdown",
   "metadata": {},
   "source": [
    "## Determine Number of Words"
   ]
  },
  {
   "cell_type": "code",
   "execution_count": 32,
   "metadata": {},
   "outputs": [
    {
     "data": {
      "text/plain": [
       "count    27330.000000\n",
       "mean       128.819539\n",
       "std        128.600239\n",
       "min          1.000000\n",
       "25%         55.000000\n",
       "50%         91.000000\n",
       "75%        156.000000\n",
       "max       5781.000000\n",
       "Name: Word_count, dtype: float64"
      ]
     },
     "execution_count": 32,
     "metadata": {},
     "output_type": "execute_result"
    }
   ],
   "source": [
    "# Checking mean and std\n",
    "df[\"Word_count\"].describe()"
   ]
  },
  {
   "attachments": {},
   "cell_type": "markdown",
   "metadata": {},
   "source": [
    "### Visual Inspection"
   ]
  },
  {
   "cell_type": "code",
   "execution_count": 33,
   "metadata": {},
   "outputs": [
    {
     "data": {
      "text/plain": [
       "<seaborn.axisgrid.FacetGrid at 0x1a9240ec4d0>"
      ]
     },
     "execution_count": 33,
     "metadata": {},
     "output_type": "execute_result"
    },
    {
     "data": {
      "image/png": "[encoded data removed]",
      "text/plain": [
       "<Figure size 1200x800 with 1 Axes>"
      ]
     },
     "metadata": {},
     "output_type": "display_data"
    }
   ],
   "source": [
    "sns.displot(df[\"Word_count\"], height=8, aspect=1.5, bins=200)"
   ]
  },
  {
   "cell_type": "code",
   "execution_count": 34,
   "metadata": {},
   "outputs": [
    {
     "data": {
      "image/png": "[encoded data removed]",
      "text/plain": [
       "<Figure size 600x1000 with 1 Axes>"
      ]
     },
     "metadata": {},
     "output_type": "display_data"
    }
   ],
   "source": [
    "plt.figure(figsize=(6, 10))\n",
    "sns.boxplot(df[\"Word_count\"])\n",
    "plt.show()"
   ]
  },
  {
   "attachments": {},
   "cell_type": "markdown",
   "metadata": {},
   "source": [
    "Upon careful examination of both visuals, it becomes apparent that around 350 words represents the optimal maximum word count."
   ]
  },
  {
   "attachments": {},
   "cell_type": "markdown",
   "metadata": {},
   "source": [
    "### IQR Method\n",
    "To ensure accuracy, I will also use the IQR method to verify the validity or proximity of my observation."
   ]
  },
  {
   "cell_type": "code",
   "execution_count": 35,
   "metadata": {},
   "outputs": [
    {
     "name": "stdout",
     "output_type": "stream",
     "text": [
      "The upper limit, which is 307.5, closely aligns with my observation. Therefore, I will round it up to 350.\n"
     ]
    }
   ],
   "source": [
    "q1 = df[\"Word_count\"].quantile(0.25)\n",
    "q3 = df[\"Word_count\"].quantile(0.75)\n",
    "iqr = q3-q1\n",
    "\n",
    "upper_limit = q3 + (1.5 * iqr)\n",
    "lower_limit = q1 - (1.5 * iqr)\n",
    "\n",
    "upper_limit, lower_limit\n",
    "\n",
    "print(f'The upper limit, which is {upper_limit}, closely aligns with my observation. Therefore, I will round it up to 350.')"
   ]
  },
  {
   "attachments": {},
   "cell_type": "markdown",
   "metadata": {},
   "source": [
    "## Tokenizing the text. Creates a word-to-index dictionary\n",
    "\n",
    "Once a word is tokenized, the assigned number represents its frequency within the text. The number 1 corresponds to the most frequently occurring word, and so forth."
   ]
  },
  {
   "cell_type": "code",
   "execution_count": 36,
   "metadata": {},
   "outputs": [
    {
     "name": "stdout",
     "output_type": "stream",
     "text": [
      "wife stayed aplex london wall november come one night stay special treat anniversary hotel close liverpool station bank tube station heart city really nice welcome reception anh glass chilled prosseco given room balcony nice view city room verybig great facilitiesandalovely coffee machine realcoffeeforonce thebed nicely presented swans made towels heart shape made red petals also received aplex branded box chocolates bathrobes fluffy slippers romantic indeed room clean huge comfortable bed white crisp sheets nice feather ducks pillows impressed man point view condition room items paint ac mastic shower drain etc pristine condition impressive normally see hotel room nowadays declined service secondhand thoughts accepted see wife enjoyed massive stand bath decorated rose petals nicetoiletries elemis brand white fluffy towels food delicious service quick overall amazing experience worth every penny paid definitely return longer stay also recommend friends family\n",
      "1\n"
     ]
    }
   ],
   "source": [
    "# This is what the words look like before getting tokenized\n",
    "print(x_train[4])\n",
    "print(y_train[4])"
   ]
  },
  {
   "cell_type": "code",
   "execution_count": 37,
   "metadata": {
    "notebookRunGroups": {
     "groupValue": ""
    }
   },
   "outputs": [
    {
     "name": "stdout",
     "output_type": "stream",
     "text": [
      "Vocabulary size: 52005\n"
     ]
    }
   ],
   "source": [
    "# Let's check what our vocabulary size is\n",
    "tokenizer = Tokenizer()\n",
    "\n",
    "tokenizer.fit_on_texts(x_train.copy())\n",
    "\n",
    "VOCAB_SIZE = len(tokenizer.word_index)\n",
    "print(\"Vocabulary size:\", VOCAB_SIZE)"
   ]
  },
  {
   "cell_type": "code",
   "execution_count": 38,
   "metadata": {},
   "outputs": [],
   "source": [
    "VOCAB_SIZE = 52005\n",
    "\n",
    "#, lower=True\n",
    "tokenizer = Tokenizer(VOCAB_SIZE)\n",
    "tokenizer.fit_on_texts(x_train)\n",
    "\n",
    "# Providing each token an integer\n",
    "x_train = tokenizer.texts_to_sequences(x_train)\n",
    "x_test = tokenizer.texts_to_sequences(x_test)"
   ]
  },
  {
   "cell_type": "code",
   "execution_count": 39,
   "metadata": {},
   "outputs": [
    {
     "name": "stdout",
     "output_type": "stream",
     "text": [
      "[204, 14, 19813, 4, 397, 1725, 154, 11, 21, 5, 67, 224, 387, 1, 92, 1060, 78, 360, 68, 78, 768, 129, 24, 18, 214, 81, 26801, 518, 2428, 8457, 217, 2, 472, 18, 69, 129, 2, 26802, 7, 26803, 128, 785, 26804, 26805, 713, 649, 5721, 48, 559, 768, 3405, 48, 1546, 2274, 26, 487, 19813, 5393, 1351, 987, 2225, 1747, 936, 1578, 931, 2, 32, 239, 31, 43, 932, 2602, 1726, 18, 4308, 7620, 670, 478, 353, 481, 69, 2021, 2, 828, 3135, 952, 19814, 75, 4238, 165, 4154, 2021, 686, 1296, 133, 1, 2, 5563, 2429, 6, 26806, 5101, 3010, 133, 204, 127, 1160, 1165, 166, 391, 1660, 2274, 26807, 2022, 1269, 932, 1747, 559, 29, 196, 6, 521, 167, 47, 42, 153, 63, 1004, 483, 66, 125, 961, 5, 26, 54, 346, 185]\n",
      "1\n"
     ]
    }
   ],
   "source": [
    "# This is what the words look like after beeing tokenized\n",
    "print(x_train[4])\n",
    "print(y_train[4])"
   ]
  },
  {
   "attachments": {},
   "cell_type": "markdown",
   "metadata": {},
   "source": [
    "## Padding the text\n",
    "\n",
    "* If a review exceeds 350 words, we will remove the excess words.\n",
    "* If a review contains less than 350 words, we will append zeros to it until it reaches a length of 750 words."
   ]
  },
  {
   "cell_type": "code",
   "execution_count": 40,
   "metadata": {},
   "outputs": [
    {
     "data": {
      "text/plain": [
       "(27, 73, 66, 57, 137)"
      ]
     },
     "execution_count": 40,
     "metadata": {},
     "output_type": "execute_result"
    }
   ],
   "source": [
    "# Word lenghts before padding\n",
    "len(x_train[0]), len(x_train[1]), len(x_train[2]), len(x_train[3]), len(x_train[4])"
   ]
  },
  {
   "cell_type": "code",
   "execution_count": 41,
   "metadata": {},
   "outputs": [],
   "source": [
    "# Max length of words\n",
    "MAXLEN = 350\n",
    "\n",
    "x_train = keras.utils.pad_sequences(x_train, padding='post', maxlen=MAXLEN)\n",
    "x_test = keras.utils.pad_sequences(x_test, padding='post', maxlen=MAXLEN)"
   ]
  },
  {
   "cell_type": "code",
   "execution_count": 42,
   "metadata": {},
   "outputs": [
    {
     "data": {
      "text/plain": [
       "(350, 350, 350, 350, 350)"
      ]
     },
     "execution_count": 42,
     "metadata": {},
     "output_type": "execute_result"
    }
   ],
   "source": [
    "# Word lenghts after padding\n",
    "len(x_train[0]), len(x_train[1]), len(x_train[2]), len(x_train[3]), len(x_train[4])"
   ]
  },
  {
   "cell_type": "code",
   "execution_count": 43,
   "metadata": {},
   "outputs": [
    {
     "data": {
      "text/plain": [
       "array([  204,    14, 19813,     4,   397,  1725,   154,    11,    21,\n",
       "           5,    67,   224,   387,     1,    92,  1060,    78,   360,\n",
       "          68,    78,   768,   129,    24,    18,   214,    81, 26801,\n",
       "         518,  2428,  8457,   217,     2,   472,    18,    69,   129,\n",
       "           2, 26802,     7, 26803,   128,   785, 26804, 26805,   713,\n",
       "         649,  5721,    48,   559,   768,  3405,    48,  1546,  2274,\n",
       "          26,   487, 19813,  5393,  1351,   987,  2225,  1747,   936,\n",
       "        1578,   931,     2,    32,   239,    31,    43,   932,  2602,\n",
       "        1726,    18,  4308,  7620,   670,   478,   353,   481,    69,\n",
       "        2021,     2,   828,  3135,   952, 19814,    75,  4238,   165,\n",
       "        4154,  2021,   686,  1296,   133,     1,     2,  5563,  2429,\n",
       "           6, 26806,  5101,  3010,   133,   204,   127,  1160,  1165,\n",
       "         166,   391,  1660,  2274, 26807,  2022,  1269,   932,  1747,\n",
       "         559,    29,   196,     6,   521,   167,    47,    42,   153,\n",
       "          63,  1004,   483,    66,   125,   961,     5,    26,    54,\n",
       "         346,   185,     0,     0,     0,     0,     0,     0,     0,\n",
       "           0,     0,     0,     0,     0,     0,     0,     0,     0,\n",
       "           0,     0,     0,     0,     0,     0,     0,     0,     0,\n",
       "           0,     0,     0,     0,     0,     0,     0,     0,     0,\n",
       "           0,     0,     0,     0,     0,     0,     0,     0,     0,\n",
       "           0,     0,     0,     0,     0,     0,     0,     0,     0,\n",
       "           0,     0,     0,     0,     0,     0,     0,     0,     0,\n",
       "           0,     0,     0,     0,     0,     0,     0,     0,     0,\n",
       "           0,     0,     0,     0,     0,     0,     0,     0,     0,\n",
       "           0,     0,     0,     0,     0,     0,     0,     0,     0,\n",
       "           0,     0,     0,     0,     0,     0,     0,     0,     0,\n",
       "           0,     0,     0,     0,     0,     0,     0,     0,     0,\n",
       "           0,     0,     0,     0,     0,     0,     0,     0,     0,\n",
       "           0,     0,     0,     0,     0,     0,     0,     0,     0,\n",
       "           0,     0,     0,     0,     0,     0,     0,     0,     0,\n",
       "           0,     0,     0,     0,     0,     0,     0,     0,     0,\n",
       "           0,     0,     0,     0,     0,     0,     0,     0,     0,\n",
       "           0,     0,     0,     0,     0,     0,     0,     0,     0,\n",
       "           0,     0,     0,     0,     0,     0,     0,     0,     0,\n",
       "           0,     0,     0,     0,     0,     0,     0,     0,     0,\n",
       "           0,     0,     0,     0,     0,     0,     0,     0,     0,\n",
       "           0,     0,     0,     0,     0,     0,     0,     0,     0,\n",
       "           0,     0,     0,     0,     0,     0,     0,     0,     0,\n",
       "           0,     0,     0,     0,     0,     0,     0,     0])"
      ]
     },
     "execution_count": 43,
     "metadata": {},
     "output_type": "execute_result"
    }
   ],
   "source": [
    "# And this is what it looks like if we take a closer look\n",
    "x_train[4]"
   ]
  },
  {
   "attachments": {},
   "cell_type": "markdown",
   "metadata": {},
   "source": [
    "## One-Hot Encoding on y"
   ]
  },
  {
   "cell_type": "code",
   "execution_count": 44,
   "metadata": {},
   "outputs": [
    {
     "name": "stdout",
     "output_type": "stream",
     "text": [
      "(21864, 2)\n",
      "[0. 1.]\n"
     ]
    }
   ],
   "source": [
    "# The assigned number is dependent on the type of rating being used, which is currently set to 0 or 1 in this instance.\n",
    "# However, it is possible to modify this if you have multilabel.\n",
    "num_classes = 2\n",
    "\n",
    "y_train = to_categorical(y_train, num_classes)\n",
    "y_test = to_categorical(y_test, num_classes)\n",
    "\n",
    "print(y_train.shape)\n",
    "print(y_test[0])"
   ]
  },
  {
   "attachments": {},
   "cell_type": "markdown",
   "metadata": {},
   "source": [
    "## Resaping the data from 2D to 3D\n",
    "\n",
    "Recurrent Neural Networks (RNNs) require 3D input because they are designed to operate on sequences of data. The 3D input tensor consists of a batch size, sequence length, and feature dimensions.\n",
    "\n",
    "* Batch size: The number of sequences in a batch, typically represented as the first dimension of the 3D tensor.\n",
    "* Sequence length: The number of time steps in each sequence, represented as the second dimension of the 3D tensor.\n",
    "* Feature dimensions: The number of features or variables in each time step, represented as the third dimension of the 3D tensor.\n",
    "\n",
    "The 3D input tensor allows RNNs to process a sequence of data over time, where each time step contains a set of features. By using a 3D input, RNNs can learn and remember patterns and dependencies across multiple time steps, which is useful in a variety of applications such as natural language processing, speech recognition, and time series forecasting."
   ]
  },
  {
   "cell_type": "code",
   "execution_count": 45,
   "metadata": {},
   "outputs": [
    {
     "name": "stdout",
     "output_type": "stream",
     "text": [
      "(21864, 350, 1)\n",
      "Sentences: 21864 Words: 350 TimeSteps: 1 \n",
      "\n",
      "(5466, 350, 1)\n",
      "Sentences: 5466 Words: 350 TimeSteps: 1\n"
     ]
    }
   ],
   "source": [
    "x_train = np.array(x_train).reshape((x_train.shape[0], x_train.shape[1], 1))\n",
    "x_test = np.array(x_test).reshape((x_test.shape[0], x_test.shape[1], 1))\n",
    "\n",
    "print(x_train.shape)\n",
    "print(\"Sentences:\", x_train.shape[0], \"Words:\", x_train.shape[1], \"TimeSteps:\", x_train.shape[2], \"\\n\")\n",
    "print(x_test.shape)\n",
    "print(\"Sentences:\", x_test.shape[0], \"Words:\", x_test.shape[1], \"TimeSteps:\", x_test.shape[2])"
   ]
  },
  {
   "attachments": {},
   "cell_type": "markdown",
   "metadata": {},
   "source": [
    "# Model Building"
   ]
  },
  {
   "cell_type": "code",
   "execution_count": 46,
   "metadata": {},
   "outputs": [
    {
     "name": "stdout",
     "output_type": "stream",
     "text": [
      "Model: \"sequential\"\n",
      "_________________________________________________________________\n",
      " Layer (type)                Output Shape              Param #   \n",
      "=================================================================\n",
      " embedding (Embedding)       (None, 350, 50)           2600250   \n",
      "                                                                 \n",
      " lstm (LSTM)                 (None, 350, 32)           10624     \n",
      "                                                                 \n",
      " dropout (Dropout)           (None, 350, 32)           0         \n",
      "                                                                 \n",
      " lstm_1 (LSTM)               (None, 350, 16)           3136      \n",
      "                                                                 \n",
      " dropout_1 (Dropout)         (None, 350, 16)           0         \n",
      "                                                                 \n",
      " flatten (Flatten)           (None, 5600)              0         \n",
      "                                                                 \n",
      " dense (Dense)               (None, 2)                 11202     \n",
      "                                                                 \n",
      "=================================================================\n",
      "Total params: 2,625,212\n",
      "Trainable params: 2,625,212\n",
      "Non-trainable params: 0\n",
      "_________________________________________________________________\n"
     ]
    }
   ],
   "source": [
    "# NN Model\n",
    "model = tf.keras.Sequential([\n",
    "tf.keras.layers.Embedding(input_dim=VOCAB_SIZE, output_dim=50, input_length=MAXLEN),\n",
    "tf.keras.layers.LSTM(32, return_sequences=True),\n",
    "tf.keras.layers.Dropout(0.2),\n",
    "tf.keras.layers.LSTM(16, return_sequences=True),\n",
    "tf.keras.layers.Dropout(0.2),\n",
    "tf.keras.layers.Flatten(),\n",
    "tf.keras.layers.Dense(num_classes , activation=\"sigmoid\"),\n",
    "])\n",
    "\n",
    "model.summary()"
   ]
  },
  {
   "attachments": {},
   "cell_type": "markdown",
   "metadata": {},
   "source": [
    "## Weights\n",
    "\n",
    "We are dealing with imbalanced data. It's important to adjust the weights of the classes to reflect their distribution. This can be done by calculating the class weights and passing them to the model during training.\n",
    "\n",
    "The class weights can be calculated using various techniques such as inverse frequency, inverse square root frequency, or user-defined weights. Inverse frequency assigns a weight to each class that is inversely proportional to the number of samples in that class. Inverse square root frequency assigns a weight that is the inverse square root of the frequency of the class. User-defined weights allow the user to manually assign weights to each class based on their domain knowledge.\n",
    "\n",
    "I opted for inverse frequency as you can seee below."
   ]
  },
  {
   "cell_type": "code",
   "execution_count": 47,
   "metadata": {},
   "outputs": [
    {
     "data": {
      "text/plain": [
       "Positive\n",
       "1    24347\n",
       "0     2983\n",
       "Name: count, dtype: int64"
      ]
     },
     "execution_count": 47,
     "metadata": {},
     "output_type": "execute_result"
    }
   ],
   "source": [
    "# Frequency\n",
    "freq = pd.value_counts(df['Positive'])\n",
    "freq"
   ]
  },
  {
   "cell_type": "code",
   "execution_count": 48,
   "metadata": {},
   "outputs": [
    {
     "data": {
      "text/plain": [
       "{0: 9.161917532685216, 1: 1.122520228364891}"
      ]
     },
     "execution_count": 48,
     "metadata": {},
     "output_type": "execute_result"
    }
   ],
   "source": [
    "# Inverse frequency\n",
    "weights = {0: freq.sum() / freq[0], 1: freq.sum() / freq[1]}\n",
    "weights"
   ]
  },
  {
   "attachments": {},
   "cell_type": "markdown",
   "metadata": {},
   "source": [
    "## ModelCheckpoint"
   ]
  },
  {
   "cell_type": "code",
   "execution_count": 49,
   "metadata": {},
   "outputs": [],
   "source": [
    "# Creating checkpoint that saves the best model\n",
    "checkpoint = ModelCheckpoint('model/', save_best_only=True)\n",
    "#, monitor='val_accuracy', mode='max'\n",
    "\n",
    "# Stop the training if the val_loss does not improve on next 4 epochs\n",
    "early_stop = EarlyStopping(monitor='val_loss', patience=4, verbose=1)\n",
    "\n",
    "# Creates a csv file and saves the model metrics in it\n",
    "log_csv = CSVLogger('my_logs.csv', separator=',', append=False)\n",
    "\n",
    "# A lsit with the 3 instances that will be put into callbacks in model.fit()\n",
    "callback_lsit = [checkpoint, early_stop, log_csv]"
   ]
  },
  {
   "attachments": {},
   "cell_type": "markdown",
   "metadata": {},
   "source": [
    "## Training Model"
   ]
  },
  {
   "cell_type": "code",
   "execution_count": 50,
   "metadata": {},
   "outputs": [
    {
     "name": "stdout",
     "output_type": "stream",
     "text": [
      "Epoch 1/20\n",
      "117/117 [==============================] - ETA: 0s - loss: 1.3784 - accuracy: 0.7475 - AUC: 0.7804"
     ]
    },
    {
     "name": "stderr",
     "output_type": "stream",
     "text": [
      "WARNING:absl:Found untraced functions such as _update_step_xla, lstm_cell_layer_call_fn, lstm_cell_layer_call_and_return_conditional_losses, lstm_cell_1_layer_call_fn, lstm_cell_1_layer_call_and_return_conditional_losses while saving (showing 5 of 5). These functions will not be directly callable after loading.\n"
     ]
    },
    {
     "name": "stdout",
     "output_type": "stream",
     "text": [
      "INFO:tensorflow:Assets written to: model\\assets\n"
     ]
    },
    {
     "name": "stderr",
     "output_type": "stream",
     "text": [
      "INFO:tensorflow:Assets written to: model\\assets\n"
     ]
    },
    {
     "name": "stdout",
     "output_type": "stream",
     "text": [
      "117/117 [==============================] - 64s 528ms/step - loss: 1.3784 - accuracy: 0.7475 - AUC: 0.7804 - val_loss: 0.6540 - val_accuracy: 0.6568 - val_AUC: 0.6723\n",
      "Epoch 2/20\n",
      "117/117 [==============================] - ETA: 0s - loss: 1.2074 - accuracy: 0.6844 - AUC: 0.7355"
     ]
    },
    {
     "name": "stderr",
     "output_type": "stream",
     "text": [
      "WARNING:absl:Found untraced functions such as _update_step_xla, lstm_cell_layer_call_fn, lstm_cell_layer_call_and_return_conditional_losses, lstm_cell_1_layer_call_fn, lstm_cell_1_layer_call_and_return_conditional_losses while saving (showing 5 of 5). These functions will not be directly callable after loading.\n"
     ]
    },
    {
     "name": "stdout",
     "output_type": "stream",
     "text": [
      "INFO:tensorflow:Assets written to: model\\assets\n"
     ]
    },
    {
     "name": "stderr",
     "output_type": "stream",
     "text": [
      "INFO:tensorflow:Assets written to: model\\assets\n"
     ]
    },
    {
     "name": "stdout",
     "output_type": "stream",
     "text": [
      "117/117 [==============================] - 58s 494ms/step - loss: 1.2074 - accuracy: 0.6844 - AUC: 0.7355 - val_loss: 0.4968 - val_accuracy: 0.7928 - val_AUC: 0.8517\n",
      "Epoch 3/20\n",
      "117/117 [==============================] - ETA: 0s - loss: 0.5513 - accuracy: 0.8936 - AUC: 0.9492"
     ]
    },
    {
     "name": "stderr",
     "output_type": "stream",
     "text": [
      "WARNING:absl:Found untraced functions such as _update_step_xla, lstm_cell_layer_call_fn, lstm_cell_layer_call_and_return_conditional_losses, lstm_cell_1_layer_call_fn, lstm_cell_1_layer_call_and_return_conditional_losses while saving (showing 5 of 5). These functions will not be directly callable after loading.\n"
     ]
    },
    {
     "name": "stdout",
     "output_type": "stream",
     "text": [
      "INFO:tensorflow:Assets written to: model\\assets\n"
     ]
    },
    {
     "name": "stderr",
     "output_type": "stream",
     "text": [
      "INFO:tensorflow:Assets written to: model\\assets\n"
     ]
    },
    {
     "name": "stdout",
     "output_type": "stream",
     "text": [
      "117/117 [==============================] - 60s 513ms/step - loss: 0.5513 - accuracy: 0.8936 - AUC: 0.9492 - val_loss: 0.2200 - val_accuracy: 0.9158 - val_AUC: 0.9693\n",
      "Epoch 4/20\n",
      "117/117 [==============================] - 49s 421ms/step - loss: 0.3291 - accuracy: 0.9372 - AUC: 0.9798 - val_loss: 0.2373 - val_accuracy: 0.9069 - val_AUC: 0.9673\n",
      "Epoch 5/20\n",
      "117/117 [==============================] - 50s 424ms/step - loss: 0.2375 - accuracy: 0.9545 - AUC: 0.9882 - val_loss: 0.2376 - val_accuracy: 0.9097 - val_AUC: 0.9687\n",
      "Epoch 6/20\n",
      "117/117 [==============================] - ETA: 0s - loss: 0.1878 - accuracy: 0.9648 - AUC: 0.9921"
     ]
    },
    {
     "name": "stderr",
     "output_type": "stream",
     "text": [
      "WARNING:absl:Found untraced functions such as _update_step_xla, lstm_cell_layer_call_fn, lstm_cell_layer_call_and_return_conditional_losses, lstm_cell_1_layer_call_fn, lstm_cell_1_layer_call_and_return_conditional_losses while saving (showing 5 of 5). These functions will not be directly callable after loading.\n"
     ]
    },
    {
     "name": "stdout",
     "output_type": "stream",
     "text": [
      "INFO:tensorflow:Assets written to: model\\assets\n"
     ]
    },
    {
     "name": "stderr",
     "output_type": "stream",
     "text": [
      "INFO:tensorflow:Assets written to: model\\assets\n"
     ]
    },
    {
     "name": "stdout",
     "output_type": "stream",
     "text": [
      "117/117 [==============================] - 55s 471ms/step - loss: 0.1878 - accuracy: 0.9648 - AUC: 0.9921 - val_loss: 0.2195 - val_accuracy: 0.9168 - val_AUC: 0.9740\n",
      "Epoch 7/20\n",
      "117/117 [==============================] - 56s 476ms/step - loss: 0.1396 - accuracy: 0.9748 - AUC: 0.9944 - val_loss: 0.2388 - val_accuracy: 0.9179 - val_AUC: 0.9730\n",
      "Epoch 8/20\n",
      "117/117 [==============================] - 59s 506ms/step - loss: 0.1147 - accuracy: 0.9800 - AUC: 0.9960 - val_loss: 0.2377 - val_accuracy: 0.9234 - val_AUC: 0.9748\n",
      "Epoch 9/20\n",
      "117/117 [==============================] - 58s 500ms/step - loss: 0.0813 - accuracy: 0.9850 - AUC: 0.9973 - val_loss: 0.2823 - val_accuracy: 0.9190 - val_AUC: 0.9701\n",
      "Epoch 10/20\n",
      "117/117 [==============================] - 59s 504ms/step - loss: 0.0699 - accuracy: 0.9888 - AUC: 0.9983 - val_loss: 0.3002 - val_accuracy: 0.9152 - val_AUC: 0.9670\n",
      "Epoch 10: early stopping\n",
      "The best epoch is 5.\n"
     ]
    }
   ],
   "source": [
    "# Creating an instance of BinaryCrossentropy to pass into model.compile()\n",
    "loss_fn = tf.keras.losses.BinaryCrossentropy()\n",
    "\n",
    "# Configure the model for training.\n",
    "model.compile(optimizer=Adam(learning_rate=(0.0001)), loss=loss_fn, metrics=['accuracy', AUC(name='AUC')])\n",
    "\n",
    "# Train a model\n",
    "history = model.fit(x_train, y_train, batch_size=150, epochs=20, validation_split=0.20, class_weight=weights, callbacks=[callback_lsit])\n",
    "\n",
    "# print the best epoch\n",
    "print(f\"The best epoch is {early_stop.best_epoch}.\")"
   ]
  },
  {
   "attachments": {},
   "cell_type": "markdown",
   "metadata": {},
   "source": [
    "# LSTM Model Scores and Evaluation\n",
    "\n",
    "Let's evaluate the model to see how well it did"
   ]
  },
  {
   "cell_type": "code",
   "execution_count": 51,
   "metadata": {},
   "outputs": [
    {
     "name": "stdout",
     "output_type": "stream",
     "text": [
      "171/171 [==============================] - 7s 39ms/step\n",
      "              precision    recall  f1-score   support\n",
      "\n",
      "           0       0.59      0.71      0.64       579\n",
      "           1       0.96      0.94      0.95      4887\n",
      "\n",
      "   micro avg       0.92      0.92      0.92      5466\n",
      "   macro avg       0.78      0.82      0.80      5466\n",
      "weighted avg       0.92      0.92      0.92      5466\n",
      " samples avg       0.92      0.92      0.92      5466\n",
      "\n"
     ]
    }
   ],
   "source": [
    "best_model = load_model('model/')\n",
    "\n",
    "test_predictions = (best_model.predict(x_test) > 0.5).astype(int)\n",
    "print(classification_report(y_test, test_predictions, zero_division=0))"
   ]
  },
  {
   "attachments": {},
   "cell_type": "markdown",
   "metadata": {},
   "source": [
    "The precision and recall for both classes are high, indicating that the model is able to correctly identify both positive and negative cases. The f1-score is also high for both classes, which suggests that the model has a good balance between precision and recall.\n",
    "\n",
    "The macro and weighted average scores are also high, which indicates that the model is performing well overall."
   ]
  },
  {
   "cell_type": "code",
   "execution_count": 52,
   "metadata": {},
   "outputs": [
    {
     "data": {
      "image/png": "[encoded data removed]",
      "text/plain": [
       "<Figure size 1170x827 with 1 Axes>"
      ]
     },
     "metadata": {},
     "output_type": "display_data"
    },
    {
     "data": {
      "image/png": "[encoded data removed]",
      "text/plain": [
       "<Figure size 1170x827 with 1 Axes>"
      ]
     },
     "metadata": {},
     "output_type": "display_data"
    },
    {
     "data": {
      "image/png": "[encoded data removed]",
      "text/plain": [
       "<Figure size 1170x827 with 1 Axes>"
      ]
     },
     "metadata": {},
     "output_type": "display_data"
    }
   ],
   "source": [
    "# Model Performance Chart\n",
    "\n",
    "# accuracy\n",
    "plt.plot(history.history['accuracy'])\n",
    "plt.plot(history.history['val_accuracy'])\n",
    "\n",
    "plt.title('model accuracy')\n",
    "plt.ylabel('accuracy')\n",
    "plt.xlabel('epoch')\n",
    "plt.legend(['train', 'test'], loc='upper left')\n",
    "\n",
    "# Add a marker on best epoch\n",
    "plt.axvline(x=early_stop.best_epoch, color='r')\n",
    "\n",
    "plt.show()\n",
    "\n",
    "# loss\n",
    "plt.plot(history.history['loss'])\n",
    "plt.plot(history.history['val_loss'])\n",
    "\n",
    "plt.title('model loss')\n",
    "plt.ylabel('loss')\n",
    "plt.xlabel('epoch')\n",
    "plt.legend(['train', 'test'], loc='upper right')\n",
    "\n",
    "# Add a marker on best epoch\n",
    "plt.axvline(x=early_stop.best_epoch, color='r')\n",
    "\n",
    "plt.show()\n",
    "\n",
    "# AUC\n",
    "plt.plot(history.history['AUC'])\n",
    "plt.plot(history.history['val_AUC'])\n",
    "\n",
    "plt.title('model AUC-ROC Score')\n",
    "plt.ylabel('AUC')\n",
    "plt.xlabel('epoch')\n",
    "plt.legend(['train', 'test'], loc='upper left')\n",
    "\n",
    "# Add a marker on best epoch\n",
    "plt.axvline(x=early_stop.best_epoch, color='r')\n",
    "\n",
    "plt.show()\n"
   ]
  },
  {
   "cell_type": "code",
   "execution_count": 53,
   "metadata": {},
   "outputs": [
    {
     "name": "stdout",
     "output_type": "stream",
     "text": [
      "Looking at this output at best epoch, the accuracy score for the training set is 0.96%, while the accuracy score for the validation set is 0.92%. This suggests that the model is performing well and not overfitting too much to the training data. The loss scores are also decreasing with each epoch, which is a good sign that the model is learning from the data.\n"
     ]
    }
   ],
   "source": [
    "print(f'Looking at this output at best epoch, the accuracy score for the training set is {history.history[\"accuracy\"][early_stop.best_epoch]:.2f}%, while the accuracy score for the validation set is {history.history[\"val_accuracy\"][early_stop.best_epoch]:.2f}%. This suggests that the model is performing well and not overfitting too much to the training data. The loss scores are also decreasing with each epoch, which is a good sign that the model is learning from the data.')"
   ]
  },
  {
   "attachments": {},
   "cell_type": "markdown",
   "metadata": {},
   "source": [
    "TODO: make this a comment instead with f string that gets the score and round it\n",
    "\n",
    "\n",
    "Looking at this output, the accuracy score for the training set is around 89-90%, while the accuracy score for the validation set is around 90-91%. This suggests that the model is performing well and not overfitting too much to the training data. The loss scores are also decreasing with each epoch, which is a good sign that the model is learning from the data.\n",
    "\n",
    "\n",
    "Great! The ROC AUC score of my model is 0.901998439517365 which indicates that my model is performing well. A value of 0.5 indicates random guessing, while a value of 1 indicates perfect performance. A score between 0.7 to 0.9 is considered good, while a score above 0.9 is considered excellent. Therefore, I would say my model is performing well in terms of its ability to distinguish between positive and negative samples."
   ]
  },
  {
   "attachments": {},
   "cell_type": "markdown",
   "metadata": {},
   "source": [
    "### Confusion Mtrix"
   ]
  },
  {
   "cell_type": "code",
   "execution_count": 54,
   "metadata": {},
   "outputs": [
    {
     "name": "stdout",
     "output_type": "stream",
     "text": [
      "[[ 410  169]\n",
      " [ 285 4602]]\n"
     ]
    }
   ],
   "source": [
    "# Create the confusion matrix\n",
    "cm = confusion_matrix(y_test.argmax(axis=1), test_predictions.argmax(axis=1))\n",
    "\n",
    "print(cm)"
   ]
  },
  {
   "cell_type": "code",
   "execution_count": 55,
   "metadata": {},
   "outputs": [
    {
     "data": {
      "image/png": "[encoded data removed]",
      "text/plain": [
       "<Figure size 800x600 with 2 Axes>"
      ]
     },
     "metadata": {},
     "output_type": "display_data"
    }
   ],
   "source": [
    "# Plot the confusion matrix\n",
    "plt.figure(figsize=(8, 6))\n",
    "sns.heatmap(cm, annot=True, cmap='Reds', fmt='g')\n",
    "plt.xlabel('Predicted Labels')\n",
    "plt.ylabel('True Labels')\n",
    "plt.title('Confusion Matrix')\n",
    "plt.show()"
   ]
  },
  {
   "attachments": {},
   "cell_type": "markdown",
   "metadata": {},
   "source": [
    "#### Confusion Matrix Summarized"
   ]
  },
  {
   "cell_type": "code",
   "execution_count": 56,
   "metadata": {},
   "outputs": [
    {
     "name": "stdout",
     "output_type": "stream",
     "text": [
      "Based on the output, the confusion matrix has four values - true negatives (TN), false positives (FP), false negatives (FN), and true positives (TP).\n",
      "- Here, the model predicted 410 true negatives and 4602 true positives. It also predicted 169 false positives and 285 false negatives.\n"
     ]
    }
   ],
   "source": [
    "print('Based on the output, the confusion matrix has four values - true negatives (TN), false positives (FP), false negatives (FN), and true positives (TP).')\n",
    "print(f'- Here, the model predicted {cm[0][0]} true negatives and {cm[1][1]} true positives. It also predicted {cm[0][1]} false positives and {cm[1][0]} false negatives.')"
   ]
  },
  {
   "attachments": {},
   "cell_type": "markdown",
   "metadata": {},
   "source": [
    "# Making Predictions with LSTM Model\n",
    "\n",
    "Next, we will utilize our neural network to predict the sentiment of our own reviews. However, since the reviews are encoded, we need to convert our new reviews into the same encoding format so that the network can process them. To accomplish this, we will load the encodings from the existing dataset and apply them to our new data."
   ]
  },
  {
   "cell_type": "code",
   "execution_count": 57,
   "metadata": {
    "notebookRunGroups": {
     "groupValue": "2"
    }
   },
   "outputs": [
    {
     "data": {
      "text/plain": [
       "(20491, 5)"
      ]
     },
     "execution_count": 57,
     "metadata": {},
     "output_type": "execute_result"
    }
   ],
   "source": [
    "data = initial_processing_df\n",
    "data.shape"
   ]
  },
  {
   "cell_type": "code",
   "execution_count": 90,
   "metadata": {},
   "outputs": [],
   "source": [
    "data = pd.read_csv('20k_tripadvisor_hotel_reviews.csv')"
   ]
  },
  {
   "cell_type": "code",
   "execution_count": 91,
   "metadata": {
    "notebookRunGroups": {
     "groupValue": "2"
    }
   },
   "outputs": [
    {
     "data": {
      "text/html": [
       "<div>\n",
       "<style scoped>\n",
       "    .dataframe tbody tr th:only-of-type {\n",
       "        vertical-align: middle;\n",
       "    }\n",
       "\n",
       "    .dataframe tbody tr th {\n",
       "        vertical-align: top;\n",
       "    }\n",
       "\n",
       "    .dataframe thead th {\n",
       "        text-align: right;\n",
       "    }\n",
       "</style>\n",
       "<table border=\"1\" class=\"dataframe\">\n",
       "  <thead>\n",
       "    <tr style=\"text-align: right;\">\n",
       "      <th></th>\n",
       "      <th>Review</th>\n",
       "      <th>Rating</th>\n",
       "    </tr>\n",
       "  </thead>\n",
       "  <tbody>\n",
       "    <tr>\n",
       "      <th>0</th>\n",
       "      <td>nice hotel expensive parking got good deal sta...</td>\n",
       "      <td>4</td>\n",
       "    </tr>\n",
       "    <tr>\n",
       "      <th>1</th>\n",
       "      <td>ok nothing special charge diamond member hilto...</td>\n",
       "      <td>2</td>\n",
       "    </tr>\n",
       "    <tr>\n",
       "      <th>2</th>\n",
       "      <td>nice rooms not 4* experience hotel monaco seat...</td>\n",
       "      <td>3</td>\n",
       "    </tr>\n",
       "    <tr>\n",
       "      <th>3</th>\n",
       "      <td>unique, great stay, wonderful time hotel monac...</td>\n",
       "      <td>5</td>\n",
       "    </tr>\n",
       "    <tr>\n",
       "      <th>4</th>\n",
       "      <td>great stay great stay, went seahawk game aweso...</td>\n",
       "      <td>5</td>\n",
       "    </tr>\n",
       "  </tbody>\n",
       "</table>\n",
       "</div>"
      ],
      "text/plain": [
       "                                              Review  Rating\n",
       "0  nice hotel expensive parking got good deal sta...       4\n",
       "1  ok nothing special charge diamond member hilto...       2\n",
       "2  nice rooms not 4* experience hotel monaco seat...       3\n",
       "3  unique, great stay, wonderful time hotel monac...       5\n",
       "4  great stay great stay, went seahawk game aweso...       5"
      ]
     },
     "execution_count": 91,
     "metadata": {},
     "output_type": "execute_result"
    }
   ],
   "source": [
    "data.head()"
   ]
  },
  {
   "cell_type": "code",
   "execution_count": 92,
   "metadata": {},
   "outputs": [
    {
     "data": {
      "text/html": [
       "<div>\n",
       "<style scoped>\n",
       "    .dataframe tbody tr th:only-of-type {\n",
       "        vertical-align: middle;\n",
       "    }\n",
       "\n",
       "    .dataframe tbody tr th {\n",
       "        vertical-align: top;\n",
       "    }\n",
       "\n",
       "    .dataframe thead th {\n",
       "        text-align: right;\n",
       "    }\n",
       "</style>\n",
       "<table border=\"1\" class=\"dataframe\">\n",
       "  <thead>\n",
       "    <tr style=\"text-align: right;\">\n",
       "      <th></th>\n",
       "      <th>Review</th>\n",
       "      <th>Rating</th>\n",
       "      <th>Positive</th>\n",
       "    </tr>\n",
       "  </thead>\n",
       "  <tbody>\n",
       "    <tr>\n",
       "      <th>0</th>\n",
       "      <td>nice hotel expensive parking got good deal sta...</td>\n",
       "      <td>4</td>\n",
       "      <td>1</td>\n",
       "    </tr>\n",
       "    <tr>\n",
       "      <th>1</th>\n",
       "      <td>ok nothing special charge diamond member hilto...</td>\n",
       "      <td>2</td>\n",
       "      <td>0</td>\n",
       "    </tr>\n",
       "    <tr>\n",
       "      <th>2</th>\n",
       "      <td>nice rooms not 4* experience hotel monaco seat...</td>\n",
       "      <td>3</td>\n",
       "      <td>0</td>\n",
       "    </tr>\n",
       "    <tr>\n",
       "      <th>3</th>\n",
       "      <td>unique, great stay, wonderful time hotel monac...</td>\n",
       "      <td>5</td>\n",
       "      <td>1</td>\n",
       "    </tr>\n",
       "    <tr>\n",
       "      <th>4</th>\n",
       "      <td>great stay great stay, went seahawk game aweso...</td>\n",
       "      <td>5</td>\n",
       "      <td>1</td>\n",
       "    </tr>\n",
       "  </tbody>\n",
       "</table>\n",
       "</div>"
      ],
      "text/plain": [
       "                                              Review  Rating  Positive\n",
       "0  nice hotel expensive parking got good deal sta...       4         1\n",
       "1  ok nothing special charge diamond member hilto...       2         0\n",
       "2  nice rooms not 4* experience hotel monaco seat...       3         0\n",
       "3  unique, great stay, wonderful time hotel monac...       5         1\n",
       "4  great stay great stay, went seahawk game aweso...       5         1"
      ]
     },
     "execution_count": 92,
     "metadata": {},
     "output_type": "execute_result"
    }
   ],
   "source": [
    "# If rating [1, 2, 3] = Negative and if rating [4, 5] = Positive\n",
    "def ratings(rating):\n",
    "    if rating>0 and rating<=3:\n",
    "        return 0\n",
    "    if rating>3 and rating<=5:\n",
    "        return 1\n",
    "    \n",
    "data['Positive'] = data['Rating'].apply(ratings)\n",
    "data.head()"
   ]
  },
  {
   "cell_type": "code",
   "execution_count": 93,
   "metadata": {
    "notebookRunGroups": {
     "groupValue": "2"
    }
   },
   "outputs": [
    {
     "name": "stderr",
     "output_type": "stream",
     "text": [
      "100%|██████████| 20491/20491 [00:05<00:00, 3770.92it/s]\n"
     ]
    }
   ],
   "source": [
    "# Empty list where the cleaned text will be stored\n",
    "data_clean_text = []\n",
    "\n",
    "data_clean_sentences = list(data['Review'])\n",
    "for sen in tqdm(data_clean_sentences):\n",
    "    data_clean_text.append(preprocess_text(sen))"
   ]
  },
  {
   "cell_type": "code",
   "execution_count": 94,
   "metadata": {
    "notebookRunGroups": {
     "groupValue": "2"
    }
   },
   "outputs": [],
   "source": [
    "data_tokenized = tokenizer.texts_to_sequences(data_clean_text)\n",
    "data_padded = keras.utils.pad_sequences(data_tokenized, padding='post', maxlen=MAXLEN)"
   ]
  },
  {
   "cell_type": "code",
   "execution_count": 95,
   "metadata": {
    "notebookRunGroups": {
     "groupValue": "2"
    }
   },
   "outputs": [
    {
     "name": "stdout",
     "output_type": "stream",
     "text": [
      "641/641 [==============================] - 25s 38ms/step\n"
     ]
    }
   ],
   "source": [
    "best_model = load_model('model/')\n",
    "\n",
    "# Use the model to make predictions\n",
    "data_predictions = best_model.predict(data_padded)\n"
   ]
  },
  {
   "cell_type": "code",
   "execution_count": 96,
   "metadata": {},
   "outputs": [],
   "source": [
    "# Get the predicted class labels\n",
    "data_class_predictions = np.argmax(data_predictions, axis=1)\n",
    "\n",
    "# Create a DataFrame with the predicted class labels\n",
    "data_predictions_df = pd.DataFrame(data_class_predictions, columns=['LSTM_Prediction_Positive'])\n",
    "\n",
    "# Concatenate the original DataFrame with the new predictions DataFrame\n",
    "data = pd.concat([data, data_predictions_df], axis=1)"
   ]
  },
  {
   "cell_type": "code",
   "execution_count": 97,
   "metadata": {},
   "outputs": [
    {
     "name": "stdout",
     "output_type": "stream",
     "text": [
      "              precision    recall  f1-score   support\n",
      "\n",
      "           0       0.77      0.73      0.75      5398\n",
      "           1       0.91      0.92      0.91     15093\n",
      "\n",
      "    accuracy                           0.87     20491\n",
      "   macro avg       0.84      0.83      0.83     20491\n",
      "weighted avg       0.87      0.87      0.87     20491\n",
      "\n"
     ]
    }
   ],
   "source": [
    "# Let's evaluate the model to see how well it did\n",
    "print(classification_report(data['Positive'], data['LSTM_Prediction_Positive']))"
   ]
  },
  {
   "cell_type": "code",
   "execution_count": 98,
   "metadata": {
    "notebookRunGroups": {
     "groupValue": "2"
    }
   },
   "outputs": [
    {
     "data": {
      "text/html": [
       "<div>\n",
       "<style scoped>\n",
       "    .dataframe tbody tr th:only-of-type {\n",
       "        vertical-align: middle;\n",
       "    }\n",
       "\n",
       "    .dataframe tbody tr th {\n",
       "        vertical-align: top;\n",
       "    }\n",
       "\n",
       "    .dataframe thead th {\n",
       "        text-align: right;\n",
       "    }\n",
       "</style>\n",
       "<table border=\"1\" class=\"dataframe\">\n",
       "  <thead>\n",
       "    <tr style=\"text-align: right;\">\n",
       "      <th></th>\n",
       "      <th>Review</th>\n",
       "      <th>Rating</th>\n",
       "      <th>Positive</th>\n",
       "      <th>LSTM_Prediction_Positive</th>\n",
       "    </tr>\n",
       "  </thead>\n",
       "  <tbody>\n",
       "    <tr>\n",
       "      <th>0</th>\n",
       "      <td>nice hotel expensive parking got good deal sta...</td>\n",
       "      <td>4</td>\n",
       "      <td>1</td>\n",
       "      <td>1</td>\n",
       "    </tr>\n",
       "    <tr>\n",
       "      <th>1</th>\n",
       "      <td>ok nothing special charge diamond member hilto...</td>\n",
       "      <td>2</td>\n",
       "      <td>0</td>\n",
       "      <td>0</td>\n",
       "    </tr>\n",
       "    <tr>\n",
       "      <th>2</th>\n",
       "      <td>nice rooms not 4* experience hotel monaco seat...</td>\n",
       "      <td>3</td>\n",
       "      <td>0</td>\n",
       "      <td>1</td>\n",
       "    </tr>\n",
       "    <tr>\n",
       "      <th>3</th>\n",
       "      <td>unique, great stay, wonderful time hotel monac...</td>\n",
       "      <td>5</td>\n",
       "      <td>1</td>\n",
       "      <td>1</td>\n",
       "    </tr>\n",
       "    <tr>\n",
       "      <th>4</th>\n",
       "      <td>great stay great stay, went seahawk game aweso...</td>\n",
       "      <td>5</td>\n",
       "      <td>1</td>\n",
       "      <td>1</td>\n",
       "    </tr>\n",
       "  </tbody>\n",
       "</table>\n",
       "</div>"
      ],
      "text/plain": [
       "                                              Review  Rating  Positive   \n",
       "0  nice hotel expensive parking got good deal sta...       4         1  \\\n",
       "1  ok nothing special charge diamond member hilto...       2         0   \n",
       "2  nice rooms not 4* experience hotel monaco seat...       3         0   \n",
       "3  unique, great stay, wonderful time hotel monac...       5         1   \n",
       "4  great stay great stay, went seahawk game aweso...       5         1   \n",
       "\n",
       "   LSTM_Prediction_Positive  \n",
       "0                         1  \n",
       "1                         0  \n",
       "2                         1  \n",
       "3                         1  \n",
       "4                         1  "
      ]
     },
     "execution_count": 98,
     "metadata": {},
     "output_type": "execute_result"
    }
   ],
   "source": [
    "data.head()"
   ]
  },
  {
   "attachments": {},
   "cell_type": "markdown",
   "metadata": {},
   "source": [
    "## Comparing True Positives Against LSTM Prediction"
   ]
  },
  {
   "cell_type": "code",
   "execution_count": 99,
   "metadata": {
    "notebookRunGroups": {
     "groupValue": "2"
    }
   },
   "outputs": [],
   "source": [
    "# function to compare values in two columns and return boolean\n",
    "def check_cols(df:str, col1:str, col2:str):\n",
    "    return df[col1] == df[col2]"
   ]
  },
  {
   "cell_type": "code",
   "execution_count": 100,
   "metadata": {
    "notebookRunGroups": {
     "groupValue": "2"
    }
   },
   "outputs": [
    {
     "data": {
      "text/html": [
       "<div>\n",
       "<style scoped>\n",
       "    .dataframe tbody tr th:only-of-type {\n",
       "        vertical-align: middle;\n",
       "    }\n",
       "\n",
       "    .dataframe tbody tr th {\n",
       "        vertical-align: top;\n",
       "    }\n",
       "\n",
       "    .dataframe thead th {\n",
       "        text-align: right;\n",
       "    }\n",
       "</style>\n",
       "<table border=\"1\" class=\"dataframe\">\n",
       "  <thead>\n",
       "    <tr style=\"text-align: right;\">\n",
       "      <th></th>\n",
       "      <th>Review</th>\n",
       "      <th>Rating</th>\n",
       "      <th>Positive</th>\n",
       "      <th>LSTM_Prediction_Positive</th>\n",
       "      <th>Positive_VS_LSTM_Positive</th>\n",
       "    </tr>\n",
       "  </thead>\n",
       "  <tbody>\n",
       "    <tr>\n",
       "      <th>0</th>\n",
       "      <td>nice hotel expensive parking got good deal sta...</td>\n",
       "      <td>4</td>\n",
       "      <td>1</td>\n",
       "      <td>1</td>\n",
       "      <td>True</td>\n",
       "    </tr>\n",
       "    <tr>\n",
       "      <th>1</th>\n",
       "      <td>ok nothing special charge diamond member hilto...</td>\n",
       "      <td>2</td>\n",
       "      <td>0</td>\n",
       "      <td>0</td>\n",
       "      <td>True</td>\n",
       "    </tr>\n",
       "    <tr>\n",
       "      <th>2</th>\n",
       "      <td>nice rooms not 4* experience hotel monaco seat...</td>\n",
       "      <td>3</td>\n",
       "      <td>0</td>\n",
       "      <td>1</td>\n",
       "      <td>False</td>\n",
       "    </tr>\n",
       "    <tr>\n",
       "      <th>3</th>\n",
       "      <td>unique, great stay, wonderful time hotel monac...</td>\n",
       "      <td>5</td>\n",
       "      <td>1</td>\n",
       "      <td>1</td>\n",
       "      <td>True</td>\n",
       "    </tr>\n",
       "    <tr>\n",
       "      <th>4</th>\n",
       "      <td>great stay great stay, went seahawk game aweso...</td>\n",
       "      <td>5</td>\n",
       "      <td>1</td>\n",
       "      <td>1</td>\n",
       "      <td>True</td>\n",
       "    </tr>\n",
       "  </tbody>\n",
       "</table>\n",
       "</div>"
      ],
      "text/plain": [
       "                                              Review  Rating  Positive   \n",
       "0  nice hotel expensive parking got good deal sta...       4         1  \\\n",
       "1  ok nothing special charge diamond member hilto...       2         0   \n",
       "2  nice rooms not 4* experience hotel monaco seat...       3         0   \n",
       "3  unique, great stay, wonderful time hotel monac...       5         1   \n",
       "4  great stay great stay, went seahawk game aweso...       5         1   \n",
       "\n",
       "   LSTM_Prediction_Positive  Positive_VS_LSTM_Positive  \n",
       "0                         1                       True  \n",
       "1                         0                       True  \n",
       "2                         1                      False  \n",
       "3                         1                       True  \n",
       "4                         1                       True  "
      ]
     },
     "execution_count": 100,
     "metadata": {},
     "output_type": "execute_result"
    }
   ],
   "source": [
    "# apply function to each row using the apply method\n",
    "data['Positive_VS_LSTM_Positive'] = data.apply(lambda x: check_cols(x, 'Positive', 'LSTM_Prediction_Positive'), axis=1)\n",
    "\n",
    "data.head()"
   ]
  },
  {
   "attachments": {},
   "cell_type": "markdown",
   "metadata": {},
   "source": [
    "To calculate the percentage of true and false values, we need to divide the count of each by the total count and multiply by 100.Assuming the count is for a single column, we can calculate the percentages as follows:"
   ]
  },
  {
   "cell_type": "code",
   "execution_count": 101,
   "metadata": {},
   "outputs": [
    {
     "name": "stdout",
     "output_type": "stream",
     "text": [
      "Positive_VS_LSTM_Positive\n",
      "True     17885\n",
      "False     2606\n",
      "Name: count, dtype: int64\n",
      "\n",
      "\n",
      "LSTM & VADER - Percentage of true values: 87.28%\n",
      "LSTM & VADER - Percentage of false values: 12.72%\n",
      "------------------------------------------------------------\n"
     ]
    }
   ],
   "source": [
    "def Positive_VS_LSTM_Positive():\n",
    "    Positive_VS_LSTM_Positive = data['Positive_VS_LSTM_Positive'].value_counts()\n",
    "        \n",
    "    true_percentage = Positive_VS_LSTM_Positive[0] / (Positive_VS_LSTM_Positive[0] + Positive_VS_LSTM_Positive[1]) * 100\n",
    "    false_percentage = Positive_VS_LSTM_Positive[1] / (Positive_VS_LSTM_Positive[0] + Positive_VS_LSTM_Positive[1]) * 100\n",
    "    \n",
    "        \n",
    "    print(Positive_VS_LSTM_Positive)\n",
    "    print('\\n')\n",
    "\n",
    "    print(f'LSTM & VADER - Percentage of true values: {true_percentage:.2f}%')\n",
    "    print(f'LSTM & VADER - Percentage of false values: {false_percentage:.2f}%')\n",
    "    print('------------------------------------------------------------')\n",
    "    \n",
    "    return true_percentage, false_percentage\n",
    "\n",
    "\n",
    "pos_lstm_true, pos_lstm_false = Positive_VS_LSTM_Positive()"
   ]
  },
  {
   "attachments": {},
   "cell_type": "markdown",
   "metadata": {},
   "source": [
    "# Making Prediction with VADER model\n",
    "\n",
    "I'm now going to use a pre-existing model known as VADER to serve as a benchmark for my LSTM model, in order to assess the performance of my model."
   ]
  },
  {
   "cell_type": "code",
   "execution_count": 102,
   "metadata": {},
   "outputs": [
    {
     "name": "stderr",
     "output_type": "stream",
     "text": [
      "100%|██████████| 20491/20491 [00:05<00:00, 3807.79it/s]\n"
     ]
    }
   ],
   "source": [
    "# Empty list where the cleaned text will be stored\n",
    "data_clean_text = []\n",
    "\n",
    "data_clean_sentences = list(data['Review'])\n",
    "for sen in tqdm(data_clean_sentences):\n",
    "    data_clean_text.append(preprocess_text(sen))"
   ]
  },
  {
   "cell_type": "code",
   "execution_count": 104,
   "metadata": {},
   "outputs": [
    {
     "name": "stderr",
     "output_type": "stream",
     "text": [
      "100%|██████████| 20491/20491 [00:17<00:00, 1196.11it/s]\n"
     ]
    }
   ],
   "source": [
    "# Initialize the sentiment analyzer\n",
    "analyzer = SentimentIntensityAnalyzer()\n",
    "\n",
    "# Use the analyzer to get the sentiment for each review\n",
    "vader_predictions = []\n",
    "for text in tqdm(data_clean_text):\n",
    "    score = analyzer.polarity_scores(text)\n",
    "    if score['compound'] >= 0:\n",
    "        vader_predictions.append(1)  # Positive sentiment\n",
    "    else:\n",
    "        vader_predictions.append(0)  # Negative sentiment"
   ]
  },
  {
   "cell_type": "code",
   "execution_count": 105,
   "metadata": {},
   "outputs": [],
   "source": [
    "# Create a DataFrame with the predicted class labels\n",
    "data_predictions_df = pd.DataFrame(vader_predictions, columns=['VADER_Prediction_Positive'])\n",
    "\n",
    "# Concatenate the original DataFrame with the new predictions DataFrame\n",
    "data = pd.concat([data, data_predictions_df], axis=1)"
   ]
  },
  {
   "cell_type": "code",
   "execution_count": 106,
   "metadata": {},
   "outputs": [
    {
     "data": {
      "text/html": [
       "<div>\n",
       "<style scoped>\n",
       "    .dataframe tbody tr th:only-of-type {\n",
       "        vertical-align: middle;\n",
       "    }\n",
       "\n",
       "    .dataframe tbody tr th {\n",
       "        vertical-align: top;\n",
       "    }\n",
       "\n",
       "    .dataframe thead th {\n",
       "        text-align: right;\n",
       "    }\n",
       "</style>\n",
       "<table border=\"1\" class=\"dataframe\">\n",
       "  <thead>\n",
       "    <tr style=\"text-align: right;\">\n",
       "      <th></th>\n",
       "      <th>Review</th>\n",
       "      <th>Rating</th>\n",
       "      <th>Positive</th>\n",
       "      <th>LSTM_Prediction_Positive</th>\n",
       "      <th>Positive_VS_LSTM_Positive</th>\n",
       "      <th>VADER_Prediction_Positive</th>\n",
       "    </tr>\n",
       "  </thead>\n",
       "  <tbody>\n",
       "    <tr>\n",
       "      <th>0</th>\n",
       "      <td>nice hotel expensive parking got good deal sta...</td>\n",
       "      <td>4</td>\n",
       "      <td>1</td>\n",
       "      <td>1</td>\n",
       "      <td>True</td>\n",
       "      <td>1</td>\n",
       "    </tr>\n",
       "    <tr>\n",
       "      <th>1</th>\n",
       "      <td>ok nothing special charge diamond member hilto...</td>\n",
       "      <td>2</td>\n",
       "      <td>0</td>\n",
       "      <td>0</td>\n",
       "      <td>True</td>\n",
       "      <td>1</td>\n",
       "    </tr>\n",
       "    <tr>\n",
       "      <th>2</th>\n",
       "      <td>nice rooms not 4* experience hotel monaco seat...</td>\n",
       "      <td>3</td>\n",
       "      <td>0</td>\n",
       "      <td>1</td>\n",
       "      <td>False</td>\n",
       "      <td>1</td>\n",
       "    </tr>\n",
       "    <tr>\n",
       "      <th>3</th>\n",
       "      <td>unique, great stay, wonderful time hotel monac...</td>\n",
       "      <td>5</td>\n",
       "      <td>1</td>\n",
       "      <td>1</td>\n",
       "      <td>True</td>\n",
       "      <td>1</td>\n",
       "    </tr>\n",
       "    <tr>\n",
       "      <th>4</th>\n",
       "      <td>great stay great stay, went seahawk game aweso...</td>\n",
       "      <td>5</td>\n",
       "      <td>1</td>\n",
       "      <td>1</td>\n",
       "      <td>True</td>\n",
       "      <td>1</td>\n",
       "    </tr>\n",
       "  </tbody>\n",
       "</table>\n",
       "</div>"
      ],
      "text/plain": [
       "                                              Review  Rating  Positive   \n",
       "0  nice hotel expensive parking got good deal sta...       4         1  \\\n",
       "1  ok nothing special charge diamond member hilto...       2         0   \n",
       "2  nice rooms not 4* experience hotel monaco seat...       3         0   \n",
       "3  unique, great stay, wonderful time hotel monac...       5         1   \n",
       "4  great stay great stay, went seahawk game aweso...       5         1   \n",
       "\n",
       "   LSTM_Prediction_Positive  Positive_VS_LSTM_Positive   \n",
       "0                         1                       True  \\\n",
       "1                         0                       True   \n",
       "2                         1                      False   \n",
       "3                         1                       True   \n",
       "4                         1                       True   \n",
       "\n",
       "   VADER_Prediction_Positive  \n",
       "0                          1  \n",
       "1                          1  \n",
       "2                          1  \n",
       "3                          1  \n",
       "4                          1  "
      ]
     },
     "execution_count": 106,
     "metadata": {},
     "output_type": "execute_result"
    }
   ],
   "source": [
    "data.head()"
   ]
  },
  {
   "attachments": {},
   "cell_type": "markdown",
   "metadata": {},
   "source": [
    "### VADER Model Scores "
   ]
  },
  {
   "cell_type": "code",
   "execution_count": 107,
   "metadata": {},
   "outputs": [
    {
     "name": "stdout",
     "output_type": "stream",
     "text": [
      "              precision    recall  f1-score   support\n",
      "\n",
      "           0       0.96      0.19      0.32      5398\n",
      "           1       0.77      1.00      0.87     15093\n",
      "\n",
      "    accuracy                           0.78     20491\n",
      "   macro avg       0.87      0.59      0.59     20491\n",
      "weighted avg       0.82      0.78      0.73     20491\n",
      "\n"
     ]
    }
   ],
   "source": [
    "# Let's evaluate the model to see how well it did\n",
    "print(classification_report(data['Positive'], data['VADER_Prediction_Positive']))"
   ]
  },
  {
   "attachments": {},
   "cell_type": "markdown",
   "metadata": {},
   "source": [
    "## Comparing True Positives Against VADER Prediction"
   ]
  },
  {
   "cell_type": "code",
   "execution_count": 108,
   "metadata": {},
   "outputs": [
    {
     "data": {
      "text/html": [
       "<div>\n",
       "<style scoped>\n",
       "    .dataframe tbody tr th:only-of-type {\n",
       "        vertical-align: middle;\n",
       "    }\n",
       "\n",
       "    .dataframe tbody tr th {\n",
       "        vertical-align: top;\n",
       "    }\n",
       "\n",
       "    .dataframe thead th {\n",
       "        text-align: right;\n",
       "    }\n",
       "</style>\n",
       "<table border=\"1\" class=\"dataframe\">\n",
       "  <thead>\n",
       "    <tr style=\"text-align: right;\">\n",
       "      <th></th>\n",
       "      <th>Review</th>\n",
       "      <th>Rating</th>\n",
       "      <th>Positive</th>\n",
       "      <th>LSTM_Prediction_Positive</th>\n",
       "      <th>Positive_VS_LSTM_Positive</th>\n",
       "      <th>VADER_Prediction_Positive</th>\n",
       "      <th>Positive_VS_VADER_Positive</th>\n",
       "    </tr>\n",
       "  </thead>\n",
       "  <tbody>\n",
       "    <tr>\n",
       "      <th>0</th>\n",
       "      <td>nice hotel expensive parking got good deal sta...</td>\n",
       "      <td>4</td>\n",
       "      <td>1</td>\n",
       "      <td>1</td>\n",
       "      <td>True</td>\n",
       "      <td>1</td>\n",
       "      <td>True</td>\n",
       "    </tr>\n",
       "    <tr>\n",
       "      <th>1</th>\n",
       "      <td>ok nothing special charge diamond member hilto...</td>\n",
       "      <td>2</td>\n",
       "      <td>0</td>\n",
       "      <td>0</td>\n",
       "      <td>True</td>\n",
       "      <td>1</td>\n",
       "      <td>False</td>\n",
       "    </tr>\n",
       "    <tr>\n",
       "      <th>2</th>\n",
       "      <td>nice rooms not 4* experience hotel monaco seat...</td>\n",
       "      <td>3</td>\n",
       "      <td>0</td>\n",
       "      <td>1</td>\n",
       "      <td>False</td>\n",
       "      <td>1</td>\n",
       "      <td>False</td>\n",
       "    </tr>\n",
       "    <tr>\n",
       "      <th>3</th>\n",
       "      <td>unique, great stay, wonderful time hotel monac...</td>\n",
       "      <td>5</td>\n",
       "      <td>1</td>\n",
       "      <td>1</td>\n",
       "      <td>True</td>\n",
       "      <td>1</td>\n",
       "      <td>True</td>\n",
       "    </tr>\n",
       "    <tr>\n",
       "      <th>4</th>\n",
       "      <td>great stay great stay, went seahawk game aweso...</td>\n",
       "      <td>5</td>\n",
       "      <td>1</td>\n",
       "      <td>1</td>\n",
       "      <td>True</td>\n",
       "      <td>1</td>\n",
       "      <td>True</td>\n",
       "    </tr>\n",
       "  </tbody>\n",
       "</table>\n",
       "</div>"
      ],
      "text/plain": [
       "                                              Review  Rating  Positive   \n",
       "0  nice hotel expensive parking got good deal sta...       4         1  \\\n",
       "1  ok nothing special charge diamond member hilto...       2         0   \n",
       "2  nice rooms not 4* experience hotel monaco seat...       3         0   \n",
       "3  unique, great stay, wonderful time hotel monac...       5         1   \n",
       "4  great stay great stay, went seahawk game aweso...       5         1   \n",
       "\n",
       "   LSTM_Prediction_Positive  Positive_VS_LSTM_Positive   \n",
       "0                         1                       True  \\\n",
       "1                         0                       True   \n",
       "2                         1                      False   \n",
       "3                         1                       True   \n",
       "4                         1                       True   \n",
       "\n",
       "   VADER_Prediction_Positive  Positive_VS_VADER_Positive  \n",
       "0                          1                        True  \n",
       "1                          1                       False  \n",
       "2                          1                       False  \n",
       "3                          1                        True  \n",
       "4                          1                        True  "
      ]
     },
     "execution_count": 108,
     "metadata": {},
     "output_type": "execute_result"
    }
   ],
   "source": [
    "# apply function to each row using the apply method\n",
    "data['Positive_VS_VADER_Positive'] = data.apply(lambda x: check_cols(x, 'Positive', 'VADER_Prediction_Positive'), axis=1)\n",
    "\n",
    "data.head()"
   ]
  },
  {
   "cell_type": "code",
   "execution_count": 109,
   "metadata": {},
   "outputs": [
    {
     "name": "stdout",
     "output_type": "stream",
     "text": [
      "Positive_VS_VADER_Positive\n",
      "True     16074\n",
      "False     4417\n",
      "Name: count, dtype: int64\n",
      "\n",
      "\n",
      "LSTM & VADER - Percentage of true values: 78.44%\n",
      "LSTM & VADER - Percentage of false values: 21.56%\n",
      "------------------------------------------------------------\n"
     ]
    }
   ],
   "source": [
    "def Positive_VS_VADER_Positive():\n",
    "    Positive_VS_VADER_Positive = data['Positive_VS_VADER_Positive'].value_counts()\n",
    "        \n",
    "    true_percentage = Positive_VS_VADER_Positive[0] / (Positive_VS_VADER_Positive[0] + Positive_VS_VADER_Positive[1]) * 100\n",
    "    false_percentage = Positive_VS_VADER_Positive[1] / (Positive_VS_VADER_Positive[0] + Positive_VS_VADER_Positive[1]) * 100\n",
    "    \n",
    "        \n",
    "    print(Positive_VS_VADER_Positive)\n",
    "    print('\\n')\n",
    "\n",
    "    print(f'LSTM & VADER - Percentage of true values: {true_percentage:.2f}%')\n",
    "    print(f'LSTM & VADER - Percentage of false values: {false_percentage:.2f}%')\n",
    "    print('------------------------------------------------------------')\n",
    "    \n",
    "    return true_percentage, false_percentage\n",
    "\n",
    "\n",
    "pos_vader_true, pos_vader_false = Positive_VS_VADER_Positive()"
   ]
  },
  {
   "attachments": {},
   "cell_type": "markdown",
   "metadata": {},
   "source": [
    "## Comparing LSTM Prediction Against VADER Prediction"
   ]
  },
  {
   "cell_type": "code",
   "execution_count": 110,
   "metadata": {},
   "outputs": [
    {
     "data": {
      "text/html": [
       "<div>\n",
       "<style scoped>\n",
       "    .dataframe tbody tr th:only-of-type {\n",
       "        vertical-align: middle;\n",
       "    }\n",
       "\n",
       "    .dataframe tbody tr th {\n",
       "        vertical-align: top;\n",
       "    }\n",
       "\n",
       "    .dataframe thead th {\n",
       "        text-align: right;\n",
       "    }\n",
       "</style>\n",
       "<table border=\"1\" class=\"dataframe\">\n",
       "  <thead>\n",
       "    <tr style=\"text-align: right;\">\n",
       "      <th></th>\n",
       "      <th>Review</th>\n",
       "      <th>Rating</th>\n",
       "      <th>Positive</th>\n",
       "      <th>LSTM_Prediction_Positive</th>\n",
       "      <th>Positive_VS_LSTM_Positive</th>\n",
       "      <th>VADER_Prediction_Positive</th>\n",
       "      <th>Positive_VS_VADER_Positive</th>\n",
       "      <th>LSTM_Positive_VS_VADER_Positive</th>\n",
       "    </tr>\n",
       "  </thead>\n",
       "  <tbody>\n",
       "    <tr>\n",
       "      <th>0</th>\n",
       "      <td>nice hotel expensive parking got good deal sta...</td>\n",
       "      <td>4</td>\n",
       "      <td>1</td>\n",
       "      <td>1</td>\n",
       "      <td>True</td>\n",
       "      <td>1</td>\n",
       "      <td>True</td>\n",
       "      <td>True</td>\n",
       "    </tr>\n",
       "    <tr>\n",
       "      <th>1</th>\n",
       "      <td>ok nothing special charge diamond member hilto...</td>\n",
       "      <td>2</td>\n",
       "      <td>0</td>\n",
       "      <td>0</td>\n",
       "      <td>True</td>\n",
       "      <td>1</td>\n",
       "      <td>False</td>\n",
       "      <td>False</td>\n",
       "    </tr>\n",
       "    <tr>\n",
       "      <th>2</th>\n",
       "      <td>nice rooms not 4* experience hotel monaco seat...</td>\n",
       "      <td>3</td>\n",
       "      <td>0</td>\n",
       "      <td>1</td>\n",
       "      <td>False</td>\n",
       "      <td>1</td>\n",
       "      <td>False</td>\n",
       "      <td>True</td>\n",
       "    </tr>\n",
       "    <tr>\n",
       "      <th>3</th>\n",
       "      <td>unique, great stay, wonderful time hotel monac...</td>\n",
       "      <td>5</td>\n",
       "      <td>1</td>\n",
       "      <td>1</td>\n",
       "      <td>True</td>\n",
       "      <td>1</td>\n",
       "      <td>True</td>\n",
       "      <td>True</td>\n",
       "    </tr>\n",
       "    <tr>\n",
       "      <th>4</th>\n",
       "      <td>great stay great stay, went seahawk game aweso...</td>\n",
       "      <td>5</td>\n",
       "      <td>1</td>\n",
       "      <td>1</td>\n",
       "      <td>True</td>\n",
       "      <td>1</td>\n",
       "      <td>True</td>\n",
       "      <td>True</td>\n",
       "    </tr>\n",
       "  </tbody>\n",
       "</table>\n",
       "</div>"
      ],
      "text/plain": [
       "                                              Review  Rating  Positive   \n",
       "0  nice hotel expensive parking got good deal sta...       4         1  \\\n",
       "1  ok nothing special charge diamond member hilto...       2         0   \n",
       "2  nice rooms not 4* experience hotel monaco seat...       3         0   \n",
       "3  unique, great stay, wonderful time hotel monac...       5         1   \n",
       "4  great stay great stay, went seahawk game aweso...       5         1   \n",
       "\n",
       "   LSTM_Prediction_Positive  Positive_VS_LSTM_Positive   \n",
       "0                         1                       True  \\\n",
       "1                         0                       True   \n",
       "2                         1                      False   \n",
       "3                         1                       True   \n",
       "4                         1                       True   \n",
       "\n",
       "   VADER_Prediction_Positive  Positive_VS_VADER_Positive   \n",
       "0                          1                        True  \\\n",
       "1                          1                       False   \n",
       "2                          1                       False   \n",
       "3                          1                        True   \n",
       "4                          1                        True   \n",
       "\n",
       "   LSTM_Positive_VS_VADER_Positive  \n",
       "0                             True  \n",
       "1                            False  \n",
       "2                             True  \n",
       "3                             True  \n",
       "4                             True  "
      ]
     },
     "execution_count": 110,
     "metadata": {},
     "output_type": "execute_result"
    }
   ],
   "source": [
    "# apply function to each row using the apply method\n",
    "data['LSTM_Positive_VS_VADER_Positive'] = data.apply(lambda x: check_cols(x, 'LSTM_Prediction_Positive', 'VADER_Prediction_Positive'), axis=1)\n",
    "\n",
    "data.head()"
   ]
  },
  {
   "cell_type": "code",
   "execution_count": 111,
   "metadata": {},
   "outputs": [
    {
     "name": "stdout",
     "output_type": "stream",
     "text": [
      "LSTM_Positive_VS_VADER_Positive\n",
      "True     16272\n",
      "False     4219\n",
      "Name: count, dtype: int64\n",
      "\n",
      "\n",
      "LSTM & VADER - Percentage of true values: 79.41%\n",
      "LSTM & VADER - Percentage of false values: 20.59%\n",
      "------------------------------------------------------------\n"
     ]
    }
   ],
   "source": [
    "def LSTM_Positive_VS_VADER_Positive():\n",
    "    LSTM_Positive_VS_VADER_Positive = data['LSTM_Positive_VS_VADER_Positive'].value_counts()\n",
    "        \n",
    "    true_percentage = LSTM_Positive_VS_VADER_Positive[0] / (LSTM_Positive_VS_VADER_Positive[0] + LSTM_Positive_VS_VADER_Positive[1]) * 100\n",
    "    false_percentage = LSTM_Positive_VS_VADER_Positive[1] / (LSTM_Positive_VS_VADER_Positive[0] + LSTM_Positive_VS_VADER_Positive[1]) * 100\n",
    "    \n",
    "        \n",
    "    print(LSTM_Positive_VS_VADER_Positive)\n",
    "    print('\\n')\n",
    "\n",
    "    print(f'LSTM & VADER - Percentage of true values: {true_percentage:.2f}%')\n",
    "    print(f'LSTM & VADER - Percentage of false values: {false_percentage:.2f}%')\n",
    "    print('------------------------------------------------------------')\n",
    "    \n",
    "    return true_percentage, false_percentage\n",
    "\n",
    "\n",
    "lstm_vader_true, lstm_vader_false = LSTM_Positive_VS_VADER_Positive()"
   ]
  },
  {
   "attachments": {},
   "cell_type": "markdown",
   "metadata": {},
   "source": [
    "# LSTM & VADER Evaluation"
   ]
  },
  {
   "cell_type": "code",
   "execution_count": 112,
   "metadata": {},
   "outputs": [
    {
     "name": "stdout",
     "output_type": "stream",
     "text": [
      "Positive_VS_LSTM_Positive\n",
      "True     17885\n",
      "False     2606\n",
      "Name: count, dtype: int64\n",
      "\n",
      "\n",
      "LSTM & VADER - Percentage of true values: 87.28%\n",
      "LSTM & VADER - Percentage of false values: 12.72%\n",
      "------------------------------------------------------------\n",
      "Positive_VS_VADER_Positive\n",
      "True     16074\n",
      "False     4417\n",
      "Name: count, dtype: int64\n",
      "\n",
      "\n",
      "LSTM & VADER - Percentage of true values: 78.44%\n",
      "LSTM & VADER - Percentage of false values: 21.56%\n",
      "------------------------------------------------------------\n",
      "LSTM_Positive_VS_VADER_Positive\n",
      "True     16272\n",
      "False     4219\n",
      "Name: count, dtype: int64\n",
      "\n",
      "\n",
      "LSTM & VADER - Percentage of true values: 79.41%\n",
      "LSTM & VADER - Percentage of false values: 20.59%\n",
      "------------------------------------------------------------\n",
      "\n",
      "\n",
      "Summary:\n",
      "-\n",
      "Positive_VS_LSTM_Positive: Out of 20491 data points, 17885 (87.28)% were classified as true by LSTM, and 2606 (12.72)% were classified as false.\n",
      "--------\n",
      "Positive_VS_VADER_Positive: Out of 20491 data points, 16074 (78.44)% were classified as true by LSTM, and 4417 (21.56)% were classified as false.\n",
      "--------\n",
      "LSTM_Positive_VS_VADER_Positive: Out of 20491 data points, 16272 (79.41%) were classified as true by both LSTM and VADER, and 4219 (20.59%) were classified as false.\n",
      "--------\n",
      "These results suggest that the LSTM model performs slightly better than VADER in identifying positive sentiment, but when both models agree, they are correct about 79% of the time.\n"
     ]
    }
   ],
   "source": [
    "pos_lstm_true, pos_lstm_false = Positive_VS_LSTM_Positive()\n",
    "pos_vader_true, pos_vader_false = Positive_VS_VADER_Positive()\n",
    "lstm_vader_true, lstm_vader_false = LSTM_Positive_VS_VADER_Positive()\n",
    "\n",
    "print('\\n')\n",
    "print('Summary:')\n",
    "print('-')\n",
    "\n",
    "print(f'Positive_VS_LSTM_Positive: Out of {data.shape[0]} data points, {data[\"Positive_VS_LSTM_Positive\"].value_counts()[0]} ({pos_lstm_true:.2f})% were classified as true by LSTM, and {data[\"Positive_VS_LSTM_Positive\"].value_counts()[1]} ({pos_lstm_false:.2f})% were classified as false.')\n",
    "print('--------')\n",
    "\n",
    "print(f'Positive_VS_VADER_Positive: Out of {data.shape[0]} data points, {data[\"Positive_VS_VADER_Positive\"].value_counts()[0]} ({pos_vader_true:.2f})% were classified as true by LSTM, and {data[\"Positive_VS_VADER_Positive\"].value_counts()[1]} ({pos_vader_false:.2f})% were classified as false.')\n",
    "print('--------')\n",
    "\n",
    "print(f'LSTM_Positive_VS_VADER_Positive: Out of {data.shape[0]} data points, {data[\"LSTM_Positive_VS_VADER_Positive\"].value_counts()[0]} ({lstm_vader_true:.2f}%) were classified as true by both LSTM and VADER, and {data[\"LSTM_Positive_VS_VADER_Positive\"].value_counts()[1]} ({lstm_vader_false:.2f}%) were classified as false.')\n",
    "print('--------')\n",
    "\n",
    "print(f'These results suggest that the LSTM model performs slightly better than VADER in identifying positive sentiment, but when both models agree, they are correct about {lstm_vader_true:.0f}% of the time.')"
   ]
  },
  {
   "cell_type": "code",
   "execution_count": 113,
   "metadata": {},
   "outputs": [
    {
     "data": {
      "image/png": "[encoded data removed]",
      "text/plain": [
       "<Figure size 1170x827 with 1 Axes>"
      ]
     },
     "metadata": {},
     "output_type": "display_data"
    }
   ],
   "source": [
    "# Data\n",
    "positive_vs_lstm = data['Positive_VS_LSTM_Positive'].value_counts()\n",
    "positive_vs_vader = data['Positive_VS_VADER_Positive'].value_counts()\n",
    "lstm_vs_vader = data['LSTM_Positive_VS_VADER_Positive'].value_counts()\n",
    "\n",
    "# Compute percentages\n",
    "pos_lstm_true_pct = positive_vs_lstm[0] / (positive_vs_lstm[0] + positive_vs_lstm[1]) * 100\n",
    "pos_vader_true_pct = positive_vs_vader[0] / (positive_vs_vader[0] + positive_vs_vader[1]) * 100\n",
    "lstm_vader_true_pct = lstm_vs_vader[0] / (lstm_vs_vader[0] + lstm_vs_vader[1]) * 100\n",
    "\n",
    "# Plot\n",
    "fig, ax = plt.subplots()\n",
    "ax.barh(['Positive vs LSTM', 'Positive vs VADER', 'LSTM vs VADER'], \n",
    "        [pos_lstm_true_pct, pos_vader_true_pct, lstm_vader_true_pct], \n",
    "        color='green')\n",
    "ax.set_xlabel('Percentage of true values')\n",
    "ax.set_ylabel('Comparison')\n",
    "ax.set_title('True values comparison')\n",
    "plt.show()\n"
   ]
  }
 ],
 "metadata": {
  "kernelspec": {
   "display_name": "Python 3",
   "language": "python",
   "name": "python3"
  },
  "language_info": {
   "codemirror_mode": {
    "name": "ipython",
    "version": 3
   },
   "file_extension": ".py",
   "mimetype": "text/x-python",
   "name": "python",
   "nbconvert_exporter": "python",
   "pygments_lexer": "ipython3",
   "version": "3.11.3"
  },
  "orig_nbformat": 4
 },
 "nbformat": 4,
 "nbformat_minor": 2
}
