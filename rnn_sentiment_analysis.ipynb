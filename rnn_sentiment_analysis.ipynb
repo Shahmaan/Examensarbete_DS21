{
 "cells": [
  {
   "attachments": {},
   "cell_type": "markdown",
   "metadata": {},
   "source": [
    "# RNN Sentiment Analysis"
   ]
  },
  {
   "attachments": {},
   "cell_type": "markdown",
   "metadata": {},
   "source": [
    "Import Dependencies"
   ]
  },
  {
   "cell_type": "code",
   "execution_count": 1,
   "metadata": {
    "notebookRunGroups": {
     "groupValue": "1"
    }
   },
   "outputs": [
    {
     "name": "stderr",
     "output_type": "stream",
     "text": [
      "[nltk_data] Downloading package stopwords to\n",
      "[nltk_data]     C:\\Users\\nawid\\AppData\\Roaming\\nltk_data...\n",
      "[nltk_data]   Package stopwords is already up-to-date!\n"
     ]
    }
   ],
   "source": [
    "%store -r initial_processing_df\n",
    "%store -r rnn_df\n",
    "\n",
    "from tqdm.notebook import tqdm\n",
    "\n",
    "from keras.preprocessing.text import Tokenizer\n",
    "from keras.utils import to_categorical\n",
    "from keras.models import Sequential\n",
    "from keras.layers import Dense, Dropout, Activation, SimpleRNN, Embedding, LSTM\n",
    "from keras.wrappers.scikit_learn import KerasClassifier\n",
    "\n",
    "from sklearn.metrics import confusion_matrix\n",
    "from sklearn.metrics import roc_curve, auc, roc_auc_score\n",
    "from sklearn.model_selection import train_test_split\n",
    "\n",
    "\n",
    "import matplotlib.pyplot as plt\n",
    "import tensorflow as tf\n",
    "import pandas as pd\n",
    "import numpy as np\n",
    "import seaborn as sns\n",
    "import keras\n",
    "import random\n",
    "import nltk\n",
    "import re\n",
    "\n",
    "nltk.download('stopwords')\n",
    "from nltk.corpus import stopwords\n"
   ]
  },
  {
   "cell_type": "code",
   "execution_count": 2,
   "metadata": {},
   "outputs": [
    {
     "data": {
      "text/html": [
       "<div>\n",
       "<style scoped>\n",
       "    .dataframe tbody tr th:only-of-type {\n",
       "        vertical-align: middle;\n",
       "    }\n",
       "\n",
       "    .dataframe tbody tr th {\n",
       "        vertical-align: top;\n",
       "    }\n",
       "\n",
       "    .dataframe thead th {\n",
       "        text-align: right;\n",
       "    }\n",
       "</style>\n",
       "<table border=\"1\" class=\"dataframe\">\n",
       "  <thead>\n",
       "    <tr style=\"text-align: right;\">\n",
       "      <th></th>\n",
       "      <th>Review Text</th>\n",
       "      <th>Review Rating</th>\n",
       "      <th>Positive</th>\n",
       "      <th>Character_Count</th>\n",
       "      <th>Word_count</th>\n",
       "    </tr>\n",
       "  </thead>\n",
       "  <tbody>\n",
       "    <tr>\n",
       "      <th>0</th>\n",
       "      <td>Siamo stati a Londra per un week end ed abbiam...</td>\n",
       "      <td>5</td>\n",
       "      <td>1</td>\n",
       "      <td>1063</td>\n",
       "      <td>171</td>\n",
       "    </tr>\n",
       "    <tr>\n",
       "      <th>1</th>\n",
       "      <td>I had a pleasure of staying in this hotel for ...</td>\n",
       "      <td>5</td>\n",
       "      <td>1</td>\n",
       "      <td>1425</td>\n",
       "      <td>265</td>\n",
       "    </tr>\n",
       "    <tr>\n",
       "      <th>2</th>\n",
       "      <td>A very lovely first visit to this iconic hotel...</td>\n",
       "      <td>5</td>\n",
       "      <td>1</td>\n",
       "      <td>324</td>\n",
       "      <td>54</td>\n",
       "    </tr>\n",
       "    <tr>\n",
       "      <th>3</th>\n",
       "      <td>3 of us stayed at the Rhodes Hotel for 4 night...</td>\n",
       "      <td>4</td>\n",
       "      <td>1</td>\n",
       "      <td>425</td>\n",
       "      <td>75</td>\n",
       "    </tr>\n",
       "    <tr>\n",
       "      <th>4</th>\n",
       "      <td>Form the moment we arrived until we left we ex...</td>\n",
       "      <td>5</td>\n",
       "      <td>1</td>\n",
       "      <td>363</td>\n",
       "      <td>62</td>\n",
       "    </tr>\n",
       "  </tbody>\n",
       "</table>\n",
       "</div>"
      ],
      "text/plain": [
       "                                         Review Text  Review Rating  Positive   \n",
       "0  Siamo stati a Londra per un week end ed abbiam...              5         1  \\\n",
       "1  I had a pleasure of staying in this hotel for ...              5         1   \n",
       "2  A very lovely first visit to this iconic hotel...              5         1   \n",
       "3  3 of us stayed at the Rhodes Hotel for 4 night...              4         1   \n",
       "4  Form the moment we arrived until we left we ex...              5         1   \n",
       "\n",
       "   Character_Count  Word_count  \n",
       "0             1063         171  \n",
       "1             1425         265  \n",
       "2              324          54  \n",
       "3              425          75  \n",
       "4              363          62  "
      ]
     },
     "execution_count": 2,
     "metadata": {},
     "output_type": "execute_result"
    }
   ],
   "source": [
    "df = rnn_df\n",
    "df.head()"
   ]
  },
  {
   "attachments": {},
   "cell_type": "markdown",
   "metadata": {},
   "source": [
    "## NLTK"
   ]
  },
  {
   "cell_type": "code",
   "execution_count": 3,
   "metadata": {},
   "outputs": [],
   "source": [
    "def preprocess_text(sen):\n",
    "    '''Cleans up text data, leaving 2 or more char long non-stopwords containing A-Z & a-z only in lowercase'''\n",
    "    \n",
    "    sentence = sen.lower()\n",
    "    \n",
    "    # Remove punctuations and numbers\n",
    "    sentence = re.sub('[^a-zA-Z]', ' ', sentence)\n",
    "    \n",
    "    # Remove single character\n",
    "    sentence = re.sub(r\"\\s+[^a-zA-Z]\\s+\", ' ', sentence)\n",
    "    \n",
    "    # Remove multiple spaces\n",
    "    sentence = re.sub(r'\\s+', ' ', sentence)\n",
    "    \n",
    "    # Remove stopwords\n",
    "    pattern = re.compile(r'\\b(' + r'|'.join(stopwords.words('english')) + r')\\b\\s*')\n",
    "    sentence = pattern.sub('', sentence)\n",
    "    \n",
    "    return sentence"
   ]
  },
  {
   "cell_type": "code",
   "execution_count": 4,
   "metadata": {},
   "outputs": [],
   "source": [
    "x = []\n",
    "\n",
    "sentences = list(df['Review Text'])\n",
    "for sen in sentences:\n",
    "    x.append(preprocess_text(sen))"
   ]
  },
  {
   "attachments": {},
   "cell_type": "markdown",
   "metadata": {},
   "source": [
    "## Splitting Data to Train Test"
   ]
  },
  {
   "cell_type": "code",
   "execution_count": 5,
   "metadata": {},
   "outputs": [],
   "source": [
    "#x = df['Review Text']\n",
    "x = np.array(x)\n",
    "y = df['Positive']"
   ]
  },
  {
   "cell_type": "code",
   "execution_count": 6,
   "metadata": {},
   "outputs": [
    {
     "name": "stdout",
     "output_type": "stream",
     "text": [
      "shape of x_train: (21864,)\n",
      "shape of x_test: (5466,)\n",
      "shape of y_train: (21864,)\n",
      "shape of y_test: (5466,)\n"
     ]
    }
   ],
   "source": [
    "# Set the random seed\n",
    "np.random.seed(123)\n",
    "\n",
    "x_train, x_test, y_train, y_test = train_test_split(x, y, test_size=0.20)\n",
    "\n",
    "print(\"shape of x_train:\", x_train.shape)\n",
    "print(\"shape of x_test:\", x_test.shape)\n",
    "\n",
    "print(\"shape of y_train:\", y_train.shape)\n",
    "print(\"shape of y_test:\", y_test.shape)\n"
   ]
  },
  {
   "attachments": {},
   "cell_type": "markdown",
   "metadata": {},
   "source": [
    "# More Preprocessing\n",
    "\n",
    "It's apparent that the reviews vary in lengths, which is problematic. Neural networks cannot accept data of different lengths. Therefore, it is imperative that we standardize the length of each review. To accomplish this, we need to:\n",
    "\n",
    "* Determine a fxied number of word.\n",
    "* Tokenize the words.\n",
    "* Pad the text."
   ]
  },
  {
   "attachments": {},
   "cell_type": "markdown",
   "metadata": {},
   "source": [
    "## Determine Number of Words"
   ]
  },
  {
   "cell_type": "code",
   "execution_count": 7,
   "metadata": {},
   "outputs": [
    {
     "data": {
      "text/plain": [
       "count    27330.000000\n",
       "mean       128.819539\n",
       "std        128.600239\n",
       "min          1.000000\n",
       "25%         55.000000\n",
       "50%         91.000000\n",
       "75%        156.000000\n",
       "max       5781.000000\n",
       "Name: Word_count, dtype: float64"
      ]
     },
     "execution_count": 7,
     "metadata": {},
     "output_type": "execute_result"
    }
   ],
   "source": [
    "# Checking mean and std\n",
    "df[\"Word_count\"].describe()"
   ]
  },
  {
   "attachments": {},
   "cell_type": "markdown",
   "metadata": {},
   "source": [
    "### Visual Inspection\n",
    "\n",
    "Upon careful examination of both visuals, it becomes apparent that around 350 words represents the optimal maximum word count."
   ]
  },
  {
   "cell_type": "code",
   "execution_count": 8,
   "metadata": {},
   "outputs": [
    {
     "data": {
      "text/plain": [
       "<seaborn.axisgrid.FacetGrid at 0x24bcf5ac310>"
      ]
     },
     "execution_count": 8,
     "metadata": {},
     "output_type": "execute_result"
    },
    {
     "data": {
      "image/png": "[encoded data removed]",
      "text/plain": [
       "<Figure size 500x500 with 1 Axes>"
      ]
     },
     "metadata": {},
     "output_type": "display_data"
    }
   ],
   "source": [
    "sns.displot(df[\"Word_count\"])"
   ]
  },
  {
   "cell_type": "code",
   "execution_count": 9,
   "metadata": {},
   "outputs": [
    {
     "data": {
      "text/plain": [
       "<Axes: >"
      ]
     },
     "execution_count": 9,
     "metadata": {},
     "output_type": "execute_result"
    },
    {
     "data": {
      "image/png": "[encoded data removed]",
      "text/plain": [
       "<Figure size 640x480 with 1 Axes>"
      ]
     },
     "metadata": {},
     "output_type": "display_data"
    }
   ],
   "source": [
    "sns.boxplot(df[\"Word_count\"])"
   ]
  },
  {
   "attachments": {},
   "cell_type": "markdown",
   "metadata": {},
   "source": [
    "### IQR Method\n",
    "To ensure accuracy, I will also use the IQR method to verify the validity or proximity of my observation."
   ]
  },
  {
   "cell_type": "code",
   "execution_count": 10,
   "metadata": {},
   "outputs": [],
   "source": [
    "q1 = df[\"Word_count\"].quantile(0.25)\n",
    "q3 = df[\"Word_count\"].quantile(0.75)\n",
    "iqr = q3-q1"
   ]
  },
  {
   "attachments": {},
   "cell_type": "markdown",
   "metadata": {},
   "source": [
    "The upper limit, which is 307.5, closely aligns with my observation. Therefore, I will round it up to 350."
   ]
  },
  {
   "cell_type": "code",
   "execution_count": 11,
   "metadata": {},
   "outputs": [
    {
     "data": {
      "text/plain": [
       "(307.5, -96.5)"
      ]
     },
     "execution_count": 11,
     "metadata": {},
     "output_type": "execute_result"
    }
   ],
   "source": [
    "upper_limit = q3 + (1.5 * iqr)\n",
    "lower_limit = q1 - (1.5 * iqr)\n",
    "\n",
    "upper_limit, lower_limit"
   ]
  },
  {
   "attachments": {},
   "cell_type": "markdown",
   "metadata": {},
   "source": [
    "## Tokenizing the text. Creates a word-to-index dictionary\n",
    "\n",
    "Once a word is tokenized, the assigned number represents its frequency within the text. The number 1 corresponds to the most frequently occurring word, and so forth."
   ]
  },
  {
   "cell_type": "code",
   "execution_count": 12,
   "metadata": {},
   "outputs": [
    {
     "name": "stdout",
     "output_type": "stream",
     "text": [
      "love savoy old savoy ladyship stayed savoy dozens times mid early purchased flat london treated like family negotiated purchase company terrace dozen us celebrated new years overlooking thames networked grill room changed accountants american bar loved man ran water perfect temperature wash hands gentleman cloak room always pleasure check prior recent stay last stayed savoy october soft opening following stg million renovation upgrade stay bit bumpy enthusiastic staff eager help stayed elsewhere return visits london simply preferred flat hotel room latest day trip thought would nice come back old favourite used online booking service surprised find hot deal stg including vat night stay deluxe king room stg per night guess fact savoy offering hot deals big warning contact concierge twice e mail fax could get response asked arrange pick heathrow assist visa car arranged used data protection act excuse assist visa send names visa services google search room small overlooked air shaft single uncomfortable chair bathroom large always hot problem heating room subsequently repaired froze second night hotel simply could get decent iced tea room service notwithstanding fact ice tea menu terrace served afternoon tea ladyship get latte even remotely hot impossible get latte tall cup glass mug several days complaining gave became essentially self sufficient sent us first small refrigerator old mini bar close larger refrigerator also provided small microwave ladyship made iced tea room microwave ventured across strand get hot latte tall cup near starbucks like stress absolute preference cooking room completely failed get sort satisfaction hotel management alas want complaining met face face several duty managers seemed powerless help met director operations view classified us pain proverbial exuded arrogance self satisfaction explaining young staff brought vibrancy hotel saw inexperience even spoke hotel gm kiaran macdonald phone asked secretary name boss mr macdonald told general manager savoy london know make ice tea hot latte might well true staff certainly share skills sign mr macdonald preparing anything us irritating saga lost parcel box toffee sent us savoy clearly marked name strand address sign parcel several days finally reached ask help front desk punted request concierge concierge nothing nagged parcel found couple hours later opened loading dock told incorrectly arrived day fact arrived hours earlier rather simply accepting responsibility another job poorly done concierge duty manager filled excuses delivered loading dock etc huh savoy actually want parcelforce drive front hotel delivery van accepted signed parcel loading dock savoy staff efficiently transfer parcel front house surprise present expecting could continue prattle many things went wrong day stay three things great doormen universally polite helpful housekeeping manager th floor tried best afternoon tea delicious served elan others observed tripadvisor several luxury hotels london still offer luxury service comparable price savoy beautiful hotel great location found staffed enthusiastic amateurs managed rather arrogant managers shame \n",
      "1\n"
     ]
    }
   ],
   "source": [
    "# This is what the words look like before getting tokenized\n",
    "print(x_train[4])\n",
    "print(y_train[4])"
   ]
  },
  {
   "cell_type": "code",
   "execution_count": 13,
   "metadata": {},
   "outputs": [
    {
     "name": "stdout",
     "output_type": "stream",
     "text": [
      "Vocabulary size: 52152\n"
     ]
    }
   ],
   "source": [
    "# Let's check what our vocabulary size is\n",
    "tokenizer = Tokenizer()\n",
    "tokenizer.fit_on_texts(x_train.copy())\n",
    "\n",
    "VOCAB_SIZE = len(tokenizer.word_index)\n",
    "print(\"Vocabulary size:\", VOCAB_SIZE)"
   ]
  },
  {
   "cell_type": "code",
   "execution_count": 14,
   "metadata": {},
   "outputs": [],
   "source": [
    "VOCAB_SIZE = 52234\n",
    "\n",
    "#, lower=True\n",
    "tokenizer = Tokenizer(VOCAB_SIZE)\n",
    "tokenizer.fit_on_texts(x_train)\n",
    "\n",
    "# Providing each token an integer\n",
    "x_train = tokenizer.texts_to_sequences(x_train)\n",
    "x_test = tokenizer.texts_to_sequences(x_test)"
   ]
  },
  {
   "cell_type": "code",
   "execution_count": 15,
   "metadata": {},
   "outputs": [
    {
     "name": "stdout",
     "output_type": "stream",
     "text": [
      "[257, 31, 217, 31, 16277, 18, 31, 6403, 194, 1759, 248, 3070, 1149, 6, 500, 37, 192, 8040, 2783, 1412, 1193, 4345, 17, 2611, 177, 311, 611, 156, 26746, 419, 3, 1077, 14068, 240, 21, 186, 382, 2148, 250, 67, 1470, 2744, 2063, 1418, 19851, 3, 86, 697, 54, 1152, 1153, 7, 167, 18, 31, 1993, 1080, 1535, 835, 14069, 3071, 1240, 341, 7, 103, 14070, 3955, 5, 1898, 306, 18, 1144, 134, 1307, 6, 422, 1735, 1149, 2, 3, 3526, 51, 143, 339, 15, 24, 161, 36, 217, 766, 298, 1625, 300, 9, 729, 144, 258, 509, 14069, 399, 3027, 27, 7, 581, 403, 3, 14069, 132, 27, 1232, 468, 31, 1158, 258, 3160, 141, 3578, 1413, 146, 723, 4, 2845, 16278, 40, 41, 1822, 172, 2064, 1465, 658, 1855, 6943, 435, 876, 298, 4346, 10424, 4729, 2886, 1855, 6943, 1964, 1728, 6943, 743, 4730, 4179, 3, 45, 1585, 401, 8514, 484, 1393, 1450, 46, 95, 86, 258, 323, 1560, 3, 6665, 8041, 19852, 246, 27, 2, 422, 40, 41, 695, 6166, 42, 3, 9, 10425, 468, 1261, 42, 295, 1193, 280, 108, 42, 16277, 41, 3322, 53, 10426, 258, 1742, 41, 3322, 2956, 1394, 513, 9624, 366, 230, 3072, 438, 1868, 4626, 1626, 2377, 859, 17, 62, 45, 4099, 217, 522, 21, 97, 902, 4099, 30, 413, 45, 9010, 16277, 55, 6166, 42, 3, 9010, 4100, 229, 952, 41, 258, 3322, 2956, 1394, 272, 3118, 37, 3119, 1384, 3201, 6666, 3, 926, 3028, 41, 1105, 3701, 2, 770, 4861, 129, 3072, 490, 1106, 1106, 366, 1639, 2811, 487, 26747, 306, 490, 4347, 7622, 75, 19853, 17, 2812, 14071, 9625, 10427, 1626, 3701, 3241, 652, 5, 630, 19854, 2, 856, 19855, 53, 1760, 2, 5551, 14072, 9011, 618, 172, 14073, 417, 6167, 1015, 9011, 255, 927, 364, 31, 6, 249, 91, 1261, 42, 258, 3322, 601, 22, 874, 5, 317, 1899, 4348, 1425, 1015, 9011, 6667, 352, 17, 5252, 19856, 1299, 8515, 1371, 19857, 859, 17, 31, 972, 5951, 417, 952, 2436, 1425, 8515, 366, 230, 817, 3579, 320, 306, 157, 165, 26748, 614, 146, 146, 176, 26749, 8515, 148, 289, 497, 447, 819, 9012, 2518, 255, 9626, 100, 51, 468, 100, 497, 1271, 357, 422, 7623, 8516, 187, 959, 3242, 348, 146, 1639, 364, 1678, 6168, 690, 9012, 2518, 160, 12508, 31, 460, 129, 26750, 2205, 157, 2, 2538, 1493, 3323, 4444, 8515, 9012, 2518, 31, 5, 2018, 2784, 8515, 157, 523, 501, 1442, 1132, 40, 2378, 26751, 83, 277, 110, 779, 51, 7, 312, 277, 11, 794, 26752, 383, 35, 529, 364, 152, 98, 633, 44, 108, 42, 195, 280, 26753, 615, 6944, 1385, 366, 237, 50, 6, 205, 390, 237, 9, 3956, 118, 31, 65, 2, 11, 20, 148, 3324, 3955, 12509, 888, 357, 4731, 2811, 1031]\n",
      "1\n"
     ]
    }
   ],
   "source": [
    "# This is what the words look like after beeing tokenized\n",
    "print(x_train[4])\n",
    "print(y_train[4])"
   ]
  },
  {
   "attachments": {},
   "cell_type": "markdown",
   "metadata": {},
   "source": [
    "## Padding the text\n",
    "\n",
    "* If a review exceeds 250 words, we will remove the excess words.\n",
    "* If a review contains less than 250 words, we will append zeros to it until it reaches a length of 750 words."
   ]
  },
  {
   "cell_type": "code",
   "execution_count": 16,
   "metadata": {},
   "outputs": [
    {
     "data": {
      "text/plain": [
       "(53, 42, 354, 26, 461)"
      ]
     },
     "execution_count": 16,
     "metadata": {},
     "output_type": "execute_result"
    }
   ],
   "source": [
    "# Word lenghts before padding\n",
    "len(x_train[0]), len(x_train[1]), len(x_train[2]), len(x_train[3]), len(x_train[4])"
   ]
  },
  {
   "cell_type": "code",
   "execution_count": 17,
   "metadata": {},
   "outputs": [],
   "source": [
    "# Max length of words\n",
    "MAXLEN = 350\n",
    "\n",
    "x_train = keras.utils.pad_sequences(x_train, padding='post', maxlen=MAXLEN)\n",
    "x_test = keras.utils.pad_sequences(x_test, padding='post', maxlen=MAXLEN)"
   ]
  },
  {
   "cell_type": "code",
   "execution_count": 18,
   "metadata": {},
   "outputs": [
    {
     "data": {
      "text/plain": [
       "(350, 350, 350, 350, 350)"
      ]
     },
     "execution_count": 18,
     "metadata": {},
     "output_type": "execute_result"
    }
   ],
   "source": [
    "# Word lenghts after padding\n",
    "len(x_train[0]), len(x_train[1]), len(x_train[2]), len(x_train[3]), len(x_train[4])"
   ]
  },
  {
   "cell_type": "code",
   "execution_count": 19,
   "metadata": {},
   "outputs": [
    {
     "data": {
      "text/plain": [
       "array([   31,  1158,   258,  3160,   141,  3578,  1413,   146,   723,\n",
       "           4,  2845, 16278,    40,    41,  1822,   172,  2064,  1465,\n",
       "         658,  1855,  6943,   435,   876,   298,  4346, 10424,  4729,\n",
       "        2886,  1855,  6943,  1964,  1728,  6943,   743,  4730,  4179,\n",
       "           3,    45,  1585,   401,  8514,   484,  1393,  1450,    46,\n",
       "          95,    86,   258,   323,  1560,     3,  6665,  8041, 19852,\n",
       "         246,    27,     2,   422,    40,    41,   695,  6166,    42,\n",
       "           3,     9, 10425,   468,  1261,    42,   295,  1193,   280,\n",
       "         108,    42, 16277,    41,  3322,    53, 10426,   258,  1742,\n",
       "          41,  3322,  2956,  1394,   513,  9624,   366,   230,  3072,\n",
       "         438,  1868,  4626,  1626,  2377,   859,    17,    62,    45,\n",
       "        4099,   217,   522,    21,    97,   902,  4099,    30,   413,\n",
       "          45,  9010, 16277,    55,  6166,    42,     3,  9010,  4100,\n",
       "         229,   952,    41,   258,  3322,  2956,  1394,   272,  3118,\n",
       "          37,  3119,  1384,  3201,  6666,     3,   926,  3028,    41,\n",
       "        1105,  3701,     2,   770,  4861,   129,  3072,   490,  1106,\n",
       "        1106,   366,  1639,  2811,   487, 26747,   306,   490,  4347,\n",
       "        7622,    75, 19853,    17,  2812, 14071,  9625, 10427,  1626,\n",
       "        3701,  3241,   652,     5,   630, 19854,     2,   856, 19855,\n",
       "          53,  1760,     2,  5551, 14072,  9011,   618,   172, 14073,\n",
       "         417,  6167,  1015,  9011,   255,   927,   364,    31,     6,\n",
       "         249,    91,  1261,    42,   258,  3322,   601,    22,   874,\n",
       "           5,   317,  1899,  4348,  1425,  1015,  9011,  6667,   352,\n",
       "          17,  5252, 19856,  1299,  8515,  1371, 19857,   859,    17,\n",
       "          31,   972,  5951,   417,   952,  2436,  1425,  8515,   366,\n",
       "         230,   817,  3579,   320,   306,   157,   165, 26748,   614,\n",
       "         146,   146,   176, 26749,  8515,   148,   289,   497,   447,\n",
       "         819,  9012,  2518,   255,  9626,   100,    51,   468,   100,\n",
       "         497,  1271,   357,   422,  7623,  8516,   187,   959,  3242,\n",
       "         348,   146,  1639,   364,  1678,  6168,   690,  9012,  2518,\n",
       "         160, 12508,    31,   460,   129, 26750,  2205,   157,     2,\n",
       "        2538,  1493,  3323,  4444,  8515,  9012,  2518,    31,     5,\n",
       "        2018,  2784,  8515,   157,   523,   501,  1442,  1132,    40,\n",
       "        2378, 26751,    83,   277,   110,   779,    51,     7,   312,\n",
       "         277,    11,   794, 26752,   383,    35,   529,   364,   152,\n",
       "          98,   633,    44,   108,    42,   195,   280, 26753,   615,\n",
       "        6944,  1385,   366,   237,    50,     6,   205,   390,   237,\n",
       "           9,  3956,   118,    31,    65,     2,    11,    20,   148,\n",
       "        3324,  3955, 12509,   888,   357,  4731,  2811,  1031])"
      ]
     },
     "execution_count": 19,
     "metadata": {},
     "output_type": "execute_result"
    }
   ],
   "source": [
    "# And this is what it looks like if we take a closer look\n",
    "x_train[4]"
   ]
  },
  {
   "attachments": {},
   "cell_type": "markdown",
   "metadata": {},
   "source": [
    "## One-Hot Encoding on y"
   ]
  },
  {
   "cell_type": "code",
   "execution_count": 20,
   "metadata": {},
   "outputs": [
    {
     "name": "stdout",
     "output_type": "stream",
     "text": [
      "(21864, 2)\n",
      "[1. 0.]\n"
     ]
    }
   ],
   "source": [
    "# The assigned number is dependent on the type of rating being used, which is currently set to 0 or 1 in this instance.\n",
    "# However, it is possible to modify this.\n",
    "num_classes = 2\n",
    "\n",
    "y_train = to_categorical(y_train, num_classes)\n",
    "y_test = to_categorical(y_test, num_classes)\n",
    "\n",
    "print(y_train.shape)\n",
    "print(y_test[0])"
   ]
  },
  {
   "attachments": {},
   "cell_type": "markdown",
   "metadata": {},
   "source": [
    "## Resaping the data from 2D to 3D\n",
    "\n",
    "Recurrent Neural Networks (RNNs) require 3D input because they are designed to operate on sequences of data. The 3D input tensor consists of a batch size, sequence length, and feature dimensions.\n",
    "\n",
    "* Batch size: The number of sequences in a batch, typically represented as the first dimension of the 3D tensor.\n",
    "* Sequence length: The number of time steps in each sequence, represented as the second dimension of the 3D tensor.\n",
    "* Feature dimensions: The number of features or variables in each time step, represented as the third dimension of the 3D tensor.\n",
    "\n",
    "The 3D input tensor allows RNNs to process a sequence of data over time, where each time step contains a set of features. By using a 3D input, RNNs can learn and remember patterns and dependencies across multiple time steps, which is useful in a variety of applications such as natural language processing, speech recognition, and time series forecasting."
   ]
  },
  {
   "cell_type": "code",
   "execution_count": 21,
   "metadata": {},
   "outputs": [
    {
     "name": "stdout",
     "output_type": "stream",
     "text": [
      "(21864, 350, 1)\n",
      "Sentences: 21864 Words: 350 TimeSteps: 1 \n",
      "\n",
      "(5466, 350, 1)\n",
      "Sentences: 5466 Words: 350 TimeSteps: 1\n"
     ]
    }
   ],
   "source": [
    "x_train = np.array(x_train).reshape((x_train.shape[0], x_train.shape[1], 1))\n",
    "x_test = np.array(x_test).reshape((x_test.shape[0], x_test.shape[1], 1))\n",
    "\n",
    "print(x_train.shape)\n",
    "print(\"Sentences:\", x_train.shape[0], \"Words:\", x_train.shape[1], \"TimeSteps:\", x_train.shape[2], \"\\n\")\n",
    "print(x_test.shape)\n",
    "print(\"Sentences:\", x_test.shape[0], \"Words:\", x_test.shape[1], \"TimeSteps:\", x_test.shape[2])"
   ]
  },
  {
   "attachments": {},
   "cell_type": "markdown",
   "metadata": {},
   "source": [
    "# Model Building"
   ]
  },
  {
   "cell_type": "code",
   "execution_count": 22,
   "metadata": {},
   "outputs": [
    {
     "name": "stdout",
     "output_type": "stream",
     "text": [
      "Model: \"sequential\"\n",
      "_________________________________________________________________\n",
      " Layer (type)                Output Shape              Param #   \n",
      "=================================================================\n",
      " embedding (Embedding)       (None, 350, 50)           2611700   \n",
      "                                                                 \n",
      " lstm (LSTM)                 (None, 350, 32)           10624     \n",
      "                                                                 \n",
      " dropout (Dropout)           (None, 350, 32)           0         \n",
      "                                                                 \n",
      " lstm_1 (LSTM)               (None, 350, 32)           8320      \n",
      "                                                                 \n",
      " dropout_1 (Dropout)         (None, 350, 32)           0         \n",
      "                                                                 \n",
      " flatten (Flatten)           (None, 11200)             0         \n",
      "                                                                 \n",
      " dense (Dense)               (None, 2)                 22402     \n",
      "                                                                 \n",
      "=================================================================\n",
      "Total params: 2,653,046\n",
      "Trainable params: 2,653,046\n",
      "Non-trainable params: 0\n",
      "_________________________________________________________________\n"
     ]
    }
   ],
   "source": [
    "# Set the random seed\n",
    "tf.random.set_seed(123)\n",
    "\n",
    "model = tf.keras.Sequential([\n",
    "tf.keras.layers.Embedding(input_dim=VOCAB_SIZE, output_dim=50, input_length=MAXLEN),\n",
    "tf.keras.layers.LSTM(32, return_sequences=True),\n",
    "tf.keras.layers.Dropout(0.2),\n",
    "tf.keras.layers.LSTM(32, return_sequences=True),\n",
    "tf.keras.layers.Dropout(0.2),\n",
    "tf.keras.layers.Flatten(),\n",
    "tf.keras.layers.Dense(num_classes, activation=\"sigmoid\"),\n",
    "])\n",
    "model.summary()"
   ]
  },
  {
   "cell_type": "code",
   "execution_count": 23,
   "metadata": {},
   "outputs": [
    {
     "data": {
      "text/plain": [
       "Positive\n",
       "1    24347\n",
       "0     2983\n",
       "Name: count, dtype: int64"
      ]
     },
     "execution_count": 23,
     "metadata": {},
     "output_type": "execute_result"
    }
   ],
   "source": [
    "freq = pd.value_counts(df['Positive'])\n",
    "freq"
   ]
  },
  {
   "cell_type": "code",
   "execution_count": 24,
   "metadata": {},
   "outputs": [
    {
     "data": {
      "text/plain": [
       "{0: 9.161917532685216, 1: 1.122520228364891}"
      ]
     },
     "execution_count": 24,
     "metadata": {},
     "output_type": "execute_result"
    }
   ],
   "source": [
    "weights = {0: freq.sum() / freq[0], 1: freq.sum() / freq[1]}\n",
    "weights"
   ]
  },
  {
   "cell_type": "code",
   "execution_count": 25,
   "metadata": {},
   "outputs": [
    {
     "name": "stdout",
     "output_type": "stream",
     "text": [
      "Epoch 1/6\n",
      "117/117 [==============================] - 78s 644ms/step - loss: 0.8999 - accuracy: 0.7834 - val_loss: 0.3313 - val_accuracy: 0.8630\n",
      "Epoch 2/6\n",
      "117/117 [==============================] - 76s 648ms/step - loss: 0.3528 - accuracy: 0.9363 - val_loss: 0.2428 - val_accuracy: 0.9008\n",
      "Epoch 3/6\n",
      "117/117 [==============================] - 79s 676ms/step - loss: 0.1855 - accuracy: 0.9666 - val_loss: 0.3118 - val_accuracy: 0.9021\n",
      "Epoch 4/6\n",
      "117/117 [==============================] - 76s 654ms/step - loss: 0.1066 - accuracy: 0.9798 - val_loss: 0.3875 - val_accuracy: 0.9092\n",
      "Epoch 5/6\n",
      "117/117 [==============================] - 79s 676ms/step - loss: 0.0823 - accuracy: 0.9846 - val_loss: 0.3982 - val_accuracy: 0.8994\n",
      "Epoch 6/6\n",
      "117/117 [==============================] - 81s 689ms/step - loss: 0.0571 - accuracy: 0.9902 - val_loss: 0.5184 - val_accuracy: 0.8962\n"
     ]
    }
   ],
   "source": [
    "model.compile(optimizer='adam', loss='binary_crossentropy', metrics=['accuracy'])\n",
    "rnn_model_history = model.fit(x_train, y_train, batch_size=150, epochs=6, validation_split=0.20, class_weight=weights)"
   ]
  },
  {
   "cell_type": "code",
   "execution_count": 26,
   "metadata": {},
   "outputs": [
    {
     "name": "stdout",
     "output_type": "stream",
     "text": [
      "171/171 [==============================] - 7s 42ms/step - loss: 0.5554 - accuracy: 0.8954\n"
     ]
    }
   ],
   "source": [
    "results = model.evaluate(x_test, y_test)"
   ]
  },
  {
   "attachments": {},
   "cell_type": "markdown",
   "metadata": {},
   "source": [
    "So we're scoring somewhere in the high 80's. Not bad for a simple recurrent network."
   ]
  },
  {
   "cell_type": "code",
   "execution_count": 30,
   "metadata": {},
   "outputs": [
    {
     "data": {
      "image/png": "[encoded data removed]",
      "text/plain": [
       "<Figure size 640x480 with 1 Axes>"
      ]
     },
     "metadata": {},
     "output_type": "display_data"
    },
    {
     "data": {
      "image/png": "[encoded data removed]",
      "text/plain": [
       "<Figure size 640x480 with 1 Axes>"
      ]
     },
     "metadata": {},
     "output_type": "display_data"
    }
   ],
   "source": [
    "# Model Performance Chart\n",
    "\n",
    "plt.plot(rnn_model_history.history['accuracy'])\n",
    "plt.plot(rnn_model_history.history['val_accuracy'])\n",
    "\n",
    "plt.title('model accuracy')\n",
    "plt.ylabel('accuracy')\n",
    "plt.xlabel('epoch')\n",
    "plt.legend(['train', 'test'], loc='upper left')\n",
    "plt.show()\n",
    "\n",
    "\n",
    "plt.plot(rnn_model_history.history['loss'])\n",
    "plt.plot(rnn_model_history.history['val_loss'])\n",
    "\n",
    "plt.title('model loss')\n",
    "plt.ylabel('loss')\n",
    "plt.xlabel('epoch')\n",
    "plt.legend(['train', 'test'], loc='lower left')\n",
    "plt.show()"
   ]
  },
  {
   "attachments": {},
   "cell_type": "markdown",
   "metadata": {},
   "source": [
    "Looking at this output, the accuracy score for the training set is around 89-90%, while the accuracy score for the validation set is around 90-91%. This suggests that the model is performing well and not overfitting too much to the training data. The loss scores are also decreasing with each epoch, which is a good sign that the model is learning from the data."
   ]
  },
  {
   "attachments": {},
   "cell_type": "markdown",
   "metadata": {},
   "source": [
    "## Model Evaluation\n",
    "\n",
    "Let's evaluate the model to see how well it did"
   ]
  },
  {
   "attachments": {},
   "cell_type": "markdown",
   "metadata": {},
   "source": [
    "### AUC-ROC score"
   ]
  },
  {
   "cell_type": "code",
   "execution_count": 31,
   "metadata": {},
   "outputs": [
    {
     "name": "stdout",
     "output_type": "stream",
     "text": [
      "171/171 [==============================] - 7s 39ms/step\n",
      "AUC-ROC score: 0.8902024579740622\n"
     ]
    }
   ],
   "source": [
    "# AUC-ROC score\n",
    "y_pred = model.predict(x_test)\n",
    "roc_auc = roc_auc_score(y_test, y_pred)\n",
    "for i in range(num_classes):\n",
    "    fpr, tpr, _ = roc_curve(y_test[:, i], y_pred[:, i])\n",
    "print('AUC-ROC score:', roc_auc)"
   ]
  },
  {
   "cell_type": "code",
   "execution_count": 29,
   "metadata": {},
   "outputs": [
    {
     "data": {
      "image/png": "[encoded data removed]",
      "text/plain": [
       "<Figure size 800x600 with 1 Axes>"
      ]
     },
     "metadata": {},
     "output_type": "display_data"
    }
   ],
   "source": [
    "# Plot the ROC curve\n",
    "plt.figure(figsize=(8, 6))\n",
    "plt.plot(fpr, tpr, color='darkorange', lw=2, label='ROC curve (AUC = %0.2f)' % roc_auc)\n",
    "plt.plot([0, 1], [0, 1], color='navy', lw=2, linestyle='--')\n",
    "plt.xlim([0.0, 1.0])\n",
    "plt.ylim([0.0, 1.05])\n",
    "plt.xlabel('False Positive Rate')\n",
    "plt.ylabel('True Positive Rate')\n",
    "plt.title('Receiver Operating Characteristic (ROC) Curve')\n",
    "plt.legend(loc=\"lower right\")\n",
    "plt.show()"
   ]
  },
  {
   "attachments": {},
   "cell_type": "markdown",
   "metadata": {},
   "source": [
    "\n",
    "Great! The ROC AUC score of my model is 0.901998439517365 which indicates that my model is performing well. A value of 0.5 indicates random guessing, while a value of 1 indicates perfect performance. A score between 0.7 to 0.9 is considered good, while a score above 0.9 is considered excellent. Therefore, I would say my model is performing well in terms of its ability to distinguish between positive and negative samples."
   ]
  },
  {
   "attachments": {},
   "cell_type": "markdown",
   "metadata": {},
   "source": [
    "### Confusion Mtrix"
   ]
  },
  {
   "cell_type": "code",
   "execution_count": null,
   "metadata": {},
   "outputs": [],
   "source": [
    "# Get the predicted labels for the test set\n",
    "y_pred = model.predict(x_test)\n",
    "y_pred = (y_pred > 0.5)\n",
    "\n",
    "# Create the confusion matrix\n",
    "cm = confusion_matrix(y_test.argmax(axis=1), y_pred.argmax(axis=1))\n",
    "\n",
    "print(cm)"
   ]
  },
  {
   "cell_type": "code",
   "execution_count": null,
   "metadata": {},
   "outputs": [],
   "source": [
    "cm[1][1]"
   ]
  },
  {
   "cell_type": "code",
   "execution_count": null,
   "metadata": {},
   "outputs": [],
   "source": [
    "# Plot the confusion matrix\n",
    "plt.figure(figsize=(8, 6))\n",
    "sns.heatmap(cm, annot=True, cmap='Blues', fmt='g')\n",
    "plt.xlabel('Predicted Labels')\n",
    "plt.ylabel('True Labels')\n",
    "plt.title('Confusion Matrix')\n",
    "plt.show()"
   ]
  },
  {
   "attachments": {},
   "cell_type": "markdown",
   "metadata": {},
   "source": [
    "Based on the output, the confusion matrix has four values - true negatives (TN), false positives (FP), false negatives (FN), and true positives (TP). The matrix is a 2x2 matrix, with the top row representing the actual negatives and the bottom row representing the actual positives. The left column represents the predicted negatives and the right column represents the predicted positives.\n",
    "\n",
    "Here, the model predicted 321 true negatives and 4705 true positives. It also predicted 276 false positives and 164 false negatives."
   ]
  },
  {
   "attachments": {},
   "cell_type": "markdown",
   "metadata": {},
   "source": [
    "# Making Predictions\n",
    "\n",
    "Next, we will utilize our neural network to predict the sentiment of our own reviews. However, since the reviews are encoded, we need to convert our new reviews into the same encoding format so that the network can process them. To accomplish this, we will load the encodings from the existing dataset and apply them to our new data."
   ]
  },
  {
   "cell_type": "code",
   "execution_count": null,
   "metadata": {},
   "outputs": [],
   "source": [
    "data = initial_processing_df\n",
    "data.head()"
   ]
  },
  {
   "cell_type": "code",
   "execution_count": null,
   "metadata": {},
   "outputs": [],
   "source": [
    "# Preprocessing the new text with the process function I created earlier\n",
    "\n",
    "unseen_reviews = data['Review']\n",
    "\n",
    "#unseen_processed = []\n",
    "#for review in unseen_reviews:\n",
    "#    review = preprocess_text(review)\n",
    "#    unseen_processed.append(review)"
   ]
  },
  {
   "cell_type": "code",
   "execution_count": null,
   "metadata": {},
   "outputs": [],
   "source": [
    "# Tokenizing the text\n",
    "unseen_tokenized = tokenizer.texts_to_sequences(unseen_reviews)\n",
    "\n",
    "# Pooling instance to have maxlength of 100 tokens\n",
    "unseen_padded = keras.utils.pad_sequences(unseen_tokenized, padding='post', maxlen=MAXLEN)"
   ]
  },
  {
   "cell_type": "code",
   "execution_count": null,
   "metadata": {},
   "outputs": [],
   "source": [
    "unseen_sentiments = model.predict(unseen_padded)"
   ]
  },
  {
   "cell_type": "code",
   "execution_count": null,
   "metadata": {},
   "outputs": [],
   "source": [
    "res = {}\n",
    "\n",
    "for i, row in data.iterrows(), total=len(data)):\n",
    "    text = row['Review']\n",
    "    myid = row['id']\n",
    "    unseen_sentiments = model.predict(unseen_padded)\n",
    "    "
   ]
  }
 ],
 "metadata": {
  "kernelspec": {
   "display_name": "Python 3",
   "language": "python",
   "name": "python3"
  },
  "language_info": {
   "codemirror_mode": {
    "name": "ipython",
    "version": 3
   },
   "file_extension": ".py",
   "mimetype": "text/x-python",
   "name": "python",
   "nbconvert_exporter": "python",
   "pygments_lexer": "ipython3",
   "version": "3.11.3"
  },
  "orig_nbformat": 4
 },
 "nbformat": 4,
 "nbformat_minor": 2
}
